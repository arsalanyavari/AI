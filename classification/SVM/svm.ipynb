{
 "cells": [
  {
   "cell_type": "markdown",
   "id": "29b5381a-72b4-4f81-9208-2075f7acad85",
   "metadata": {},
   "source": [
    "# Support Vector Machine Classification"
   ]
  },
  {
   "cell_type": "markdown",
   "id": "cac03d32",
   "metadata": {},
   "source": [
    "Configure the project. Indeed you create a dataset in csv format."
   ]
  },
  {
   "cell_type": "code",
   "execution_count": 1,
   "id": "6f480cda-8380-4355-998a-5c59d6203b05",
   "metadata": {},
   "outputs": [
    {
     "name": "stdout",
     "output_type": "stream",
     "text": [
      "Archive:  ./dataset/archive.zip\n",
      "  inflating: Student-Employability-Datasets.xlsx  \n"
     ]
    }
   ],
   "source": [
    "! rm -rf *.xlsx\n",
    "! unzip ./dataset/archive.zip\n",
    "! mv *.xlsx data.xlsx\n"
   ]
  },
  {
   "cell_type": "markdown",
   "id": "52ec2f48",
   "metadata": {},
   "source": [
    "Import needed libraries"
   ]
  },
  {
   "cell_type": "code",
   "execution_count": 2,
   "id": "dd17f780",
   "metadata": {},
   "outputs": [],
   "source": [
    "import matplotlib.pyplot as plt\n",
    "import pandas as pd\n",
    "import numpy as np\n",
    "from sklearn.model_selection import train_test_split\n",
    "from sklearn.preprocessing import LabelEncoder\n",
    "from sklearn import svm\n",
    "from sklearn.metrics import classification_report, accuracy_score, precision_score, recall_score, jaccard_score\n",
    "import scikitplot as skplt\n",
    "\n",
    "%matplotlib inline"
   ]
  },
  {
   "cell_type": "markdown",
   "id": "57b33a77",
   "metadata": {},
   "source": [
    "Read data from data.csv using pandas and store in data frame structure. Also shuffle data to have uniform distribution. "
   ]
  },
  {
   "cell_type": "code",
   "execution_count": 3,
   "id": "a102a751",
   "metadata": {},
   "outputs": [
    {
     "data": {
      "text/html": [
       "<div>\n",
       "<style scoped>\n",
       "    .dataframe tbody tr th:only-of-type {\n",
       "        vertical-align: middle;\n",
       "    }\n",
       "\n",
       "    .dataframe tbody tr th {\n",
       "        vertical-align: top;\n",
       "    }\n",
       "\n",
       "    .dataframe thead th {\n",
       "        text-align: right;\n",
       "    }\n",
       "</style>\n",
       "<table border=\"1\" class=\"dataframe\">\n",
       "  <thead>\n",
       "    <tr style=\"text-align: right;\">\n",
       "      <th></th>\n",
       "      <th>Name of Student</th>\n",
       "      <th>GENERAL APPEARANCE</th>\n",
       "      <th>MANNER OF SPEAKING</th>\n",
       "      <th>PHYSICAL CONDITION</th>\n",
       "      <th>MENTAL ALERTNESS</th>\n",
       "      <th>SELF-CONFIDENCE</th>\n",
       "      <th>ABILITY TO PRESENT IDEAS</th>\n",
       "      <th>COMMUNICATION SKILLS</th>\n",
       "      <th>Student Performance Rating</th>\n",
       "      <th>CLASS</th>\n",
       "    </tr>\n",
       "  </thead>\n",
       "  <tbody>\n",
       "    <tr>\n",
       "      <th>0</th>\n",
       "      <td>Student 2428</td>\n",
       "      <td>4</td>\n",
       "      <td>4</td>\n",
       "      <td>4</td>\n",
       "      <td>3</td>\n",
       "      <td>3</td>\n",
       "      <td>3</td>\n",
       "      <td>3</td>\n",
       "      <td>5</td>\n",
       "      <td>Employable</td>\n",
       "    </tr>\n",
       "    <tr>\n",
       "      <th>1</th>\n",
       "      <td>Student 1548</td>\n",
       "      <td>4</td>\n",
       "      <td>4</td>\n",
       "      <td>4</td>\n",
       "      <td>4</td>\n",
       "      <td>4</td>\n",
       "      <td>4</td>\n",
       "      <td>4</td>\n",
       "      <td>5</td>\n",
       "      <td>LessEmployable</td>\n",
       "    </tr>\n",
       "    <tr>\n",
       "      <th>2</th>\n",
       "      <td>Student 882</td>\n",
       "      <td>5</td>\n",
       "      <td>5</td>\n",
       "      <td>5</td>\n",
       "      <td>5</td>\n",
       "      <td>5</td>\n",
       "      <td>5</td>\n",
       "      <td>5</td>\n",
       "      <td>5</td>\n",
       "      <td>LessEmployable</td>\n",
       "    </tr>\n",
       "    <tr>\n",
       "      <th>3</th>\n",
       "      <td>Student 332</td>\n",
       "      <td>5</td>\n",
       "      <td>4</td>\n",
       "      <td>4</td>\n",
       "      <td>3</td>\n",
       "      <td>3</td>\n",
       "      <td>4</td>\n",
       "      <td>4</td>\n",
       "      <td>4</td>\n",
       "      <td>LessEmployable</td>\n",
       "    </tr>\n",
       "    <tr>\n",
       "      <th>4</th>\n",
       "      <td>Student 2244</td>\n",
       "      <td>4</td>\n",
       "      <td>4</td>\n",
       "      <td>4</td>\n",
       "      <td>4</td>\n",
       "      <td>5</td>\n",
       "      <td>4</td>\n",
       "      <td>4</td>\n",
       "      <td>5</td>\n",
       "      <td>LessEmployable</td>\n",
       "    </tr>\n",
       "  </tbody>\n",
       "</table>\n",
       "</div>"
      ],
      "text/plain": [
       "  Name of Student  GENERAL APPEARANCE  MANNER OF SPEAKING  PHYSICAL CONDITION  \\\n",
       "0    Student 2428                   4                   4                   4   \n",
       "1    Student 1548                   4                   4                   4   \n",
       "2     Student 882                   5                   5                   5   \n",
       "3     Student 332                   5                   4                   4   \n",
       "4    Student 2244                   4                   4                   4   \n",
       "\n",
       "   MENTAL ALERTNESS  SELF-CONFIDENCE  ABILITY TO PRESENT IDEAS  \\\n",
       "0                 3                3                         3   \n",
       "1                 4                4                         4   \n",
       "2                 5                5                         5   \n",
       "3                 3                3                         4   \n",
       "4                 4                5                         4   \n",
       "\n",
       "   COMMUNICATION SKILLS  Student Performance Rating           CLASS  \n",
       "0                     3                           5      Employable  \n",
       "1                     4                           5  LessEmployable  \n",
       "2                     5                           5  LessEmployable  \n",
       "3                     4                           4  LessEmployable  \n",
       "4                     4                           5  LessEmployable  "
      ]
     },
     "execution_count": 3,
     "metadata": {},
     "output_type": "execute_result"
    }
   ],
   "source": [
    "df = pd.read_excel(\"data.xlsx\")\n",
    "df.head()\n",
    "df = df.sample(frac=1.0, random_state=42).reset_index(drop=True)\n",
    "df.head()"
   ]
  },
  {
   "cell_type": "markdown",
   "id": "ca6a571f",
   "metadata": {},
   "source": [
    "## Preprocessing"
   ]
  },
  {
   "cell_type": "code",
   "execution_count": 4,
   "id": "6f063a14",
   "metadata": {},
   "outputs": [
    {
     "name": "stdout",
     "output_type": "stream",
     "text": [
      "(2982, 10)\n",
      "Index(['Name of Student', 'GENERAL APPEARANCE', 'MANNER OF SPEAKING',\n",
      "       'PHYSICAL CONDITION', 'MENTAL ALERTNESS', 'SELF-CONFIDENCE',\n",
      "       'ABILITY TO PRESENT IDEAS', 'COMMUNICATION SKILLS',\n",
      "       'Student Performance Rating', 'CLASS'],\n",
      "      dtype='object')\n",
      "Name of Student               object\n",
      "GENERAL APPEARANCE             int64\n",
      "MANNER OF SPEAKING             int64\n",
      "PHYSICAL CONDITION             int64\n",
      "MENTAL ALERTNESS               int64\n",
      "SELF-CONFIDENCE                int64\n",
      "ABILITY TO PRESENT IDEAS       int64\n",
      "COMMUNICATION SKILLS           int64\n",
      "Student Performance Rating     int64\n",
      "CLASS                         object\n",
      "dtype: object\n"
     ]
    }
   ],
   "source": [
    "print(df.shape)\n",
    "print(df.columns)\n",
    "print(df.dtypes)"
   ]
  },
  {
   "cell_type": "code",
   "execution_count": 5,
   "id": "e4bf7dcd",
   "metadata": {},
   "outputs": [
    {
     "data": {
      "text/plain": [
       "CLASS\n",
       "Employable        1729\n",
       "LessEmployable    1253\n",
       "Name: count, dtype: int64"
      ]
     },
     "execution_count": 5,
     "metadata": {},
     "output_type": "execute_result"
    }
   ],
   "source": [
    "df['CLASS'].value_counts()"
   ]
  },
  {
   "cell_type": "code",
   "execution_count": 6,
   "id": "1743c9c6",
   "metadata": {},
   "outputs": [
    {
     "data": {
      "text/html": [
       "<div>\n",
       "<style scoped>\n",
       "    .dataframe tbody tr th:only-of-type {\n",
       "        vertical-align: middle;\n",
       "    }\n",
       "\n",
       "    .dataframe tbody tr th {\n",
       "        vertical-align: top;\n",
       "    }\n",
       "\n",
       "    .dataframe thead th {\n",
       "        text-align: right;\n",
       "    }\n",
       "</style>\n",
       "<table border=\"1\" class=\"dataframe\">\n",
       "  <thead>\n",
       "    <tr style=\"text-align: right;\">\n",
       "      <th></th>\n",
       "      <th>GENERAL APPEARANCE</th>\n",
       "      <th>MANNER OF SPEAKING</th>\n",
       "      <th>PHYSICAL CONDITION</th>\n",
       "      <th>MENTAL ALERTNESS</th>\n",
       "      <th>SELF-CONFIDENCE</th>\n",
       "      <th>ABILITY TO PRESENT IDEAS</th>\n",
       "      <th>COMMUNICATION SKILLS</th>\n",
       "      <th>Student Performance Rating</th>\n",
       "      <th>CLASS</th>\n",
       "    </tr>\n",
       "  </thead>\n",
       "  <tbody>\n",
       "    <tr>\n",
       "      <th>0</th>\n",
       "      <td>4</td>\n",
       "      <td>4</td>\n",
       "      <td>4</td>\n",
       "      <td>3</td>\n",
       "      <td>3</td>\n",
       "      <td>3</td>\n",
       "      <td>3</td>\n",
       "      <td>5</td>\n",
       "      <td>0</td>\n",
       "    </tr>\n",
       "    <tr>\n",
       "      <th>1</th>\n",
       "      <td>4</td>\n",
       "      <td>4</td>\n",
       "      <td>4</td>\n",
       "      <td>4</td>\n",
       "      <td>4</td>\n",
       "      <td>4</td>\n",
       "      <td>4</td>\n",
       "      <td>5</td>\n",
       "      <td>1</td>\n",
       "    </tr>\n",
       "    <tr>\n",
       "      <th>2</th>\n",
       "      <td>5</td>\n",
       "      <td>5</td>\n",
       "      <td>5</td>\n",
       "      <td>5</td>\n",
       "      <td>5</td>\n",
       "      <td>5</td>\n",
       "      <td>5</td>\n",
       "      <td>5</td>\n",
       "      <td>1</td>\n",
       "    </tr>\n",
       "    <tr>\n",
       "      <th>3</th>\n",
       "      <td>5</td>\n",
       "      <td>4</td>\n",
       "      <td>4</td>\n",
       "      <td>3</td>\n",
       "      <td>3</td>\n",
       "      <td>4</td>\n",
       "      <td>4</td>\n",
       "      <td>4</td>\n",
       "      <td>1</td>\n",
       "    </tr>\n",
       "    <tr>\n",
       "      <th>4</th>\n",
       "      <td>4</td>\n",
       "      <td>4</td>\n",
       "      <td>4</td>\n",
       "      <td>4</td>\n",
       "      <td>5</td>\n",
       "      <td>4</td>\n",
       "      <td>4</td>\n",
       "      <td>5</td>\n",
       "      <td>1</td>\n",
       "    </tr>\n",
       "  </tbody>\n",
       "</table>\n",
       "</div>"
      ],
      "text/plain": [
       "   GENERAL APPEARANCE  MANNER OF SPEAKING  PHYSICAL CONDITION  \\\n",
       "0                   4                   4                   4   \n",
       "1                   4                   4                   4   \n",
       "2                   5                   5                   5   \n",
       "3                   5                   4                   4   \n",
       "4                   4                   4                   4   \n",
       "\n",
       "   MENTAL ALERTNESS  SELF-CONFIDENCE  ABILITY TO PRESENT IDEAS  \\\n",
       "0                 3                3                         3   \n",
       "1                 4                4                         4   \n",
       "2                 5                5                         5   \n",
       "3                 3                3                         4   \n",
       "4                 4                5                         4   \n",
       "\n",
       "   COMMUNICATION SKILLS  Student Performance Rating  CLASS  \n",
       "0                     3                           5      0  \n",
       "1                     4                           5      1  \n",
       "2                     5                           5      1  \n",
       "3                     4                           4      1  \n",
       "4                     4                           5      1  "
      ]
     },
     "execution_count": 6,
     "metadata": {},
     "output_type": "execute_result"
    }
   ],
   "source": [
    "df = df.drop('Name of Student', axis=1)\n",
    "categorical_attr = ['CLASS']\n",
    "\n",
    "le = LabelEncoder()\n",
    "df[categorical_attr] = df[categorical_attr].apply(le.fit_transform, axis=0)\n",
    "df.head()"
   ]
  },
  {
   "cell_type": "code",
   "execution_count": 7,
   "id": "93002df5",
   "metadata": {},
   "outputs": [
    {
     "data": {
      "text/html": [
       "<div>\n",
       "<style scoped>\n",
       "    .dataframe tbody tr th:only-of-type {\n",
       "        vertical-align: middle;\n",
       "    }\n",
       "\n",
       "    .dataframe tbody tr th {\n",
       "        vertical-align: top;\n",
       "    }\n",
       "\n",
       "    .dataframe thead th {\n",
       "        text-align: right;\n",
       "    }\n",
       "</style>\n",
       "<table border=\"1\" class=\"dataframe\">\n",
       "  <thead>\n",
       "    <tr style=\"text-align: right;\">\n",
       "      <th></th>\n",
       "      <th>GENERAL APPEARANCE</th>\n",
       "      <th>MANNER OF SPEAKING</th>\n",
       "      <th>PHYSICAL CONDITION</th>\n",
       "      <th>MENTAL ALERTNESS</th>\n",
       "      <th>SELF-CONFIDENCE</th>\n",
       "      <th>ABILITY TO PRESENT IDEAS</th>\n",
       "      <th>COMMUNICATION SKILLS</th>\n",
       "      <th>Student Performance Rating</th>\n",
       "      <th>CLASS</th>\n",
       "    </tr>\n",
       "  </thead>\n",
       "  <tbody>\n",
       "    <tr>\n",
       "      <th>count</th>\n",
       "      <td>2982.000000</td>\n",
       "      <td>2982.000000</td>\n",
       "      <td>2982.000000</td>\n",
       "      <td>2982.000000</td>\n",
       "      <td>2982.000000</td>\n",
       "      <td>2982.000000</td>\n",
       "      <td>2982.000000</td>\n",
       "      <td>2982.000000</td>\n",
       "      <td>2982.000000</td>\n",
       "    </tr>\n",
       "    <tr>\n",
       "      <th>mean</th>\n",
       "      <td>4.246814</td>\n",
       "      <td>3.884641</td>\n",
       "      <td>3.972166</td>\n",
       "      <td>3.962777</td>\n",
       "      <td>3.910798</td>\n",
       "      <td>3.813883</td>\n",
       "      <td>3.525486</td>\n",
       "      <td>4.610664</td>\n",
       "      <td>0.420188</td>\n",
       "    </tr>\n",
       "    <tr>\n",
       "      <th>std</th>\n",
       "      <td>0.678501</td>\n",
       "      <td>0.757013</td>\n",
       "      <td>0.744135</td>\n",
       "      <td>0.781982</td>\n",
       "      <td>0.807602</td>\n",
       "      <td>0.739390</td>\n",
       "      <td>0.743881</td>\n",
       "      <td>0.692845</td>\n",
       "      <td>0.493672</td>\n",
       "    </tr>\n",
       "    <tr>\n",
       "      <th>min</th>\n",
       "      <td>2.000000</td>\n",
       "      <td>2.000000</td>\n",
       "      <td>2.000000</td>\n",
       "      <td>2.000000</td>\n",
       "      <td>2.000000</td>\n",
       "      <td>2.000000</td>\n",
       "      <td>2.000000</td>\n",
       "      <td>3.000000</td>\n",
       "      <td>0.000000</td>\n",
       "    </tr>\n",
       "    <tr>\n",
       "      <th>25%</th>\n",
       "      <td>4.000000</td>\n",
       "      <td>3.000000</td>\n",
       "      <td>3.000000</td>\n",
       "      <td>3.000000</td>\n",
       "      <td>3.000000</td>\n",
       "      <td>3.000000</td>\n",
       "      <td>3.000000</td>\n",
       "      <td>4.000000</td>\n",
       "      <td>0.000000</td>\n",
       "    </tr>\n",
       "    <tr>\n",
       "      <th>50%</th>\n",
       "      <td>4.000000</td>\n",
       "      <td>4.000000</td>\n",
       "      <td>4.000000</td>\n",
       "      <td>4.000000</td>\n",
       "      <td>4.000000</td>\n",
       "      <td>4.000000</td>\n",
       "      <td>3.000000</td>\n",
       "      <td>5.000000</td>\n",
       "      <td>0.000000</td>\n",
       "    </tr>\n",
       "    <tr>\n",
       "      <th>75%</th>\n",
       "      <td>5.000000</td>\n",
       "      <td>4.000000</td>\n",
       "      <td>5.000000</td>\n",
       "      <td>5.000000</td>\n",
       "      <td>5.000000</td>\n",
       "      <td>4.000000</td>\n",
       "      <td>4.000000</td>\n",
       "      <td>5.000000</td>\n",
       "      <td>1.000000</td>\n",
       "    </tr>\n",
       "    <tr>\n",
       "      <th>max</th>\n",
       "      <td>5.000000</td>\n",
       "      <td>5.000000</td>\n",
       "      <td>5.000000</td>\n",
       "      <td>5.000000</td>\n",
       "      <td>5.000000</td>\n",
       "      <td>5.000000</td>\n",
       "      <td>5.000000</td>\n",
       "      <td>5.000000</td>\n",
       "      <td>1.000000</td>\n",
       "    </tr>\n",
       "  </tbody>\n",
       "</table>\n",
       "</div>"
      ],
      "text/plain": [
       "       GENERAL APPEARANCE  MANNER OF SPEAKING  PHYSICAL CONDITION  \\\n",
       "count         2982.000000         2982.000000         2982.000000   \n",
       "mean             4.246814            3.884641            3.972166   \n",
       "std              0.678501            0.757013            0.744135   \n",
       "min              2.000000            2.000000            2.000000   \n",
       "25%              4.000000            3.000000            3.000000   \n",
       "50%              4.000000            4.000000            4.000000   \n",
       "75%              5.000000            4.000000            5.000000   \n",
       "max              5.000000            5.000000            5.000000   \n",
       "\n",
       "       MENTAL ALERTNESS  SELF-CONFIDENCE  ABILITY TO PRESENT IDEAS  \\\n",
       "count       2982.000000      2982.000000               2982.000000   \n",
       "mean           3.962777         3.910798                  3.813883   \n",
       "std            0.781982         0.807602                  0.739390   \n",
       "min            2.000000         2.000000                  2.000000   \n",
       "25%            3.000000         3.000000                  3.000000   \n",
       "50%            4.000000         4.000000                  4.000000   \n",
       "75%            5.000000         5.000000                  4.000000   \n",
       "max            5.000000         5.000000                  5.000000   \n",
       "\n",
       "       COMMUNICATION SKILLS  Student Performance Rating        CLASS  \n",
       "count           2982.000000                 2982.000000  2982.000000  \n",
       "mean               3.525486                    4.610664     0.420188  \n",
       "std                0.743881                    0.692845     0.493672  \n",
       "min                2.000000                    3.000000     0.000000  \n",
       "25%                3.000000                    4.000000     0.000000  \n",
       "50%                3.000000                    5.000000     0.000000  \n",
       "75%                4.000000                    5.000000     1.000000  \n",
       "max                5.000000                    5.000000     1.000000  "
      ]
     },
     "execution_count": 7,
     "metadata": {},
     "output_type": "execute_result"
    }
   ],
   "source": [
    "# summarize data\n",
    "df.describe() "
   ]
  },
  {
   "cell_type": "markdown",
   "id": "7ebceb4d",
   "metadata": {},
   "source": [
    "Print the histogram chart of data"
   ]
  },
  {
   "cell_type": "code",
   "execution_count": 8,
   "id": "834eb664",
   "metadata": {},
   "outputs": [
    {
     "name": "stdout",
     "output_type": "stream",
     "text": [
      "Index(['GENERAL APPEARANCE', 'MANNER OF SPEAKING', 'PHYSICAL CONDITION',\n",
      "       'MENTAL ALERTNESS', 'SELF-CONFIDENCE', 'ABILITY TO PRESENT IDEAS',\n",
      "       'COMMUNICATION SKILLS', 'Student Performance Rating', 'CLASS'],\n",
      "      dtype='object')\n"
     ]
    }
   ],
   "source": [
    "print(df.columns)"
   ]
  },
  {
   "cell_type": "code",
   "execution_count": 9,
   "id": "39faae37",
   "metadata": {},
   "outputs": [
    {
     "data": {
      "image/png": "[encoded data removed]",
      "text/plain": [
       "<Figure size 2000x700 with 9 Axes>"
      ]
     },
     "metadata": {},
     "output_type": "display_data"
    }
   ],
   "source": [
    "viz = df[['GENERAL APPEARANCE', 'MANNER OF SPEAKING', 'PHYSICAL CONDITION', 'MENTAL ALERTNESS', 'SELF-CONFIDENCE', 'ABILITY TO PRESENT IDEAS', 'COMMUNICATION SKILLS', 'Student Performance Rating', 'CLASS']]\n",
    "fig, axes = plt.subplots(nrows=2, ncols=5, figsize=(20, 7))\n",
    "\n",
    "axes = axes.flatten()\n",
    "\n",
    "for i, column in enumerate(viz.columns):\n",
    "    viz[column].hist(ax=axes[i])\n",
    "    axes[i].set_title(column)\n",
    "\n",
    "\n",
    "fig.delaxes(axes[9])\n",
    "plt.tight_layout()\n",
    "plt.show()"
   ]
  },
  {
   "cell_type": "code",
   "execution_count": 10,
   "id": "0068030a",
   "metadata": {},
   "outputs": [],
   "source": [
    "# print(df)\n",
    "train, test = train_test_split(df, test_size=0.20, random_state=42)\n",
    "# test, evaluate = train_test_split(test, test_size=0.5, random_state=42)"
   ]
  },
  {
   "cell_type": "markdown",
   "id": "70a01055",
   "metadata": {},
   "source": [
    "## Fit model based on data. "
   ]
  },
  {
   "cell_type": "code",
   "execution_count": 11,
   "id": "92f95186",
   "metadata": {},
   "outputs": [],
   "source": [
    "train_x = np.asanyarray(train[['GENERAL APPEARANCE', 'MANNER OF SPEAKING', 'PHYSICAL CONDITION', 'MENTAL ALERTNESS', 'SELF-CONFIDENCE', 'ABILITY TO PRESENT IDEAS', 'COMMUNICATION SKILLS', 'Student Performance Rating']])\n",
    "train_y = np.asanyarray(train[['CLASS']])"
   ]
  },
  {
   "cell_type": "code",
   "execution_count": 12,
   "id": "a3bb7499",
   "metadata": {},
   "outputs": [],
   "source": [
    "test_x = np.asanyarray(test[['GENERAL APPEARANCE', 'MANNER OF SPEAKING', 'PHYSICAL CONDITION', 'MENTAL ALERTNESS', 'SELF-CONFIDENCE', 'ABILITY TO PRESENT IDEAS', 'COMMUNICATION SKILLS', 'Student Performance Rating']])\n",
    "test_y = np.asanyarray(test[['CLASS']])"
   ]
  },
  {
   "cell_type": "code",
   "execution_count": 13,
   "id": "bce9d88c",
   "metadata": {},
   "outputs": [
    {
     "name": "stderr",
     "output_type": "stream",
     "text": [
      "/home/andre/code/AI/venv/lib/python3.11/site-packages/sklearn/utils/validation.py:1339: DataConversionWarning: A column-vector y was passed when a 1d array was expected. Please change the shape of y to (n_samples, ), for example using ravel().\n",
      "  y = column_or_1d(y, warn=True)\n"
     ]
    }
   ],
   "source": [
    "model = svm.SVC(kernel=\"rbf\")\n",
    "model.fit(train_x, train_y)\n",
    "test_y_ = model.predict(test_x)"
   ]
  },
  {
   "cell_type": "markdown",
   "id": "43eafda9",
   "metadata": {},
   "source": [
    "## Evaluation"
   ]
  },
  {
   "cell_type": "code",
   "execution_count": 14,
   "id": "c31aad30",
   "metadata": {},
   "outputs": [
    {
     "name": "stdout",
     "output_type": "stream",
     "text": [
      "The jaccard score for 0's:\n",
      "0.7702020202020202\n",
      "\n",
      "The jaccard score for 1's:\n",
      "0.6883561643835616\n"
     ]
    }
   ],
   "source": [
    "print(\"The jaccard score for 0's:\")\n",
    "print(jaccard_score(test_y, test_y_, pos_label=0))\n",
    "print(\"\\nThe jaccard score for 1's:\")\n",
    "print(jaccard_score(test_y, test_y_, pos_label=1))"
   ]
  },
  {
   "cell_type": "code",
   "execution_count": 15,
   "id": "150897f7",
   "metadata": {},
   "outputs": [
    {
     "name": "stdout",
     "output_type": "stream",
     "text": [
      "Logistic Regression Classification Report:\n",
      "              precision    recall  f1-score   support\n",
      "\n",
      "           0       0.85      0.89      0.87       343\n",
      "           1       0.84      0.79      0.82       254\n",
      "\n",
      "    accuracy                           0.85       597\n",
      "   macro avg       0.85      0.84      0.84       597\n",
      "weighted avg       0.85      0.85      0.85       597\n",
      "\n",
      "Logistic Regression Confusion Matrix:\n"
     ]
    },
    {
     "data": {
      "text/plain": [
       "<Axes: title={'center': 'Confusion Matrix'}, xlabel='Predicted label', ylabel='True label'>"
      ]
     },
     "execution_count": 15,
     "metadata": {},
     "output_type": "execute_result"
    },
    {
     "data": {
      "image/png": "[encoded data removed]",
      "text/plain": [
       "<Figure size 640x480 with 2 Axes>"
      ]
     },
     "metadata": {},
     "output_type": "display_data"
    }
   ],
   "source": [
    "accuracy = accuracy_score(test_y, test_y_)\n",
    "precision = precision_score(test_y, test_y_)\n",
    "recall = recall_score(test_y, test_y_)\n",
    "\n",
    "\n",
    "\n",
    "print(\"Logistic Regression Classification Report:\")\n",
    "print(classification_report(test_y, test_y_))\n",
    "\n",
    "print(\"Logistic Regression Confusion Matrix:\")\n",
    "skplt.metrics.plot_confusion_matrix(test_y, test_y_)"
   ]
  }
 ],
 "metadata": {
  "kernelspec": {
   "display_name": "venv",
   "language": "python",
   "name": "python3"
  },
  "language_info": {
   "codemirror_mode": {
    "name": "ipython",
    "version": 3
   },
   "file_extension": ".py",
   "mimetype": "text/x-python",
   "name": "python",
   "nbconvert_exporter": "python",
   "pygments_lexer": "ipython3",
   "version": "3.11.2"
  }
 },
 "nbformat": 4,
 "nbformat_minor": 5
}
