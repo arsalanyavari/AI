{
 "cells": [
  {
   "cell_type": "markdown",
   "id": "03f723d9",
   "metadata": {},
   "source": [
    "## Solve LunarLander-v2 game using DQN."
   ]
  },
  {
   "cell_type": "code",
   "execution_count": null,
   "id": "99011011",
   "metadata": {},
   "outputs": [],
   "source": [
    "# For Debian based (needed packages)\n",
    "#! sudo apt-get install build-essential libc6-dev libsdl2-dev libsdl2-image-dev libsdl2-mixer-dev libsdl2-ttf-dev libportmidi-dev libswscale-dev libavformat-dev libavcodec-dev libjpeg-dev libpng-dev\n",
    "\n",
    "! pip install gym\n",
    "! pip install pygame\n",
    "! pip install gym[box2d]"
   ]
  },
  {
   "cell_type": "code",
   "execution_count": 1,
   "id": "6fccf093",
   "metadata": {},
   "outputs": [],
   "source": [
    "import gymnasium as gym\n",
    "from stable_baselines3 import DQN\n",
    "import os"
   ]
  },
  {
   "cell_type": "code",
   "execution_count": 2,
   "id": "aa5c0677",
   "metadata": {},
   "outputs": [],
   "source": [
    "train_env = gym.make(\"LunarLander-v2\")\n",
    "test_env = gym.make(\"LunarLander-v2\", render_mode=\"human\")"
   ]
  },
  {
   "cell_type": "code",
   "execution_count": 3,
   "id": "72be0fc0",
   "metadata": {},
   "outputs": [],
   "source": [
    "save_path = \"./dqn_lunar_lander_model\"\n",
    "model_exist = os.path.exists(f\"{save_path}.zip\")"
   ]
  },
  {
   "cell_type": "code",
   "execution_count": 4,
   "id": "fad4dccd",
   "metadata": {},
   "outputs": [
    {
     "name": "stdout",
     "output_type": "stream",
     "text": [
      "Loading existing model...\n",
      "Wrapping the env with a `Monitor` wrapper\n",
      "Wrapping the env in a DummyVecEnv.\n"
     ]
    }
   ],
   "source": [
    "if model_exist:\n",
    "    print(\"Loading existing model...\")\n",
    "    model = DQN.load(save_path, env=train_env)\n",
    "else:\n",
    "    print(\"Creating a new model...\")\n",
    "    model = DQN(\n",
    "        \"MlpPolicy\", \n",
    "        train_env, \n",
    "        verbose=1,\n",
    "        learning_rate=0.001,\n",
    "        exploration_fraction=0.1,\n",
    "        exploration_final_eps=0.02,\n",
    "        target_update_interval=250\n",
    "    )\n",
    "\n",
    "    timesteps_to_train = 2000000"
   ]
  },
  {
   "cell_type": "markdown",
   "id": "a1eb1b78",
   "metadata": {},
   "source": [
    "### Train the model"
   ]
  },
  {
   "cell_type": "code",
   "execution_count": 5,
   "id": "4cbb06d0",
   "metadata": {},
   "outputs": [],
   "source": [
    "if not model_exist:\n",
    "    print(f\"Training the model for {timesteps_to_train} timesteps...\")\n",
    "    model.learn(total_timesteps=timesteps_to_train)\n",
    "    model.save(save_path)"
   ]
  },
  {
   "cell_type": "markdown",
   "id": "84c28dfa",
   "metadata": {},
   "source": [
    "### Test the model performance"
   ]
  },
  {
   "cell_type": "code",
   "execution_count": 6,
   "id": "f6dbf404",
   "metadata": {},
   "outputs": [
    {
     "name": "stdout",
     "output_type": "stream",
     "text": [
      "\n",
      "Starting test episodes...\n",
      "\n",
      "\n",
      "Starting Episode 1\n",
      "\n",
      "Episode 1 finished with Reward = 282.5193047112648\n",
      "\n",
      "Starting Episode 2\n",
      "\n",
      "Episode 2 finished with Reward = 278.58507224927223\n",
      "\n",
      "Starting Episode 3\n",
      "\n",
      "Episode 3 finished with Reward = 231.4056407939228\n",
      "\n",
      "Starting Episode 4\n",
      "\n",
      "Episode 4 finished with Reward = 307.4485807746782\n",
      "\n",
      "Starting Episode 5\n",
      "\n",
      "Episode 5 finished with Reward = 262.6625937808301\n",
      "\n",
      "Starting Episode 6\n",
      "\n",
      "Episode 6 finished with Reward = 257.99842571722263\n",
      "\n",
      "Starting Episode 7\n",
      "\n",
      "Episode 7 finished with Reward = 217.92687647541175\n",
      "\n",
      "Starting Episode 8\n",
      "\n",
      "Episode 8 finished with Reward = 281.46275594814426\n",
      "\n",
      "Starting Episode 9\n",
      "\n",
      "Episode 9 finished with Reward = 271.4860365967917\n",
      "\n",
      "Starting Episode 10\n",
      "\n",
      "Episode 10 finished with Reward = 278.6101341362273\n"
     ]
    }
   ],
   "source": [
    "episodes = 10\n",
    "total_rewards = []\n",
    "\n",
    "print(\"\\nStarting test episodes...\\n\")\n",
    "\n",
    "for episode in range(episodes):\n",
    "    obs, _ = test_env.reset()\n",
    "    episode_reward = 0\n",
    "    terminated = truncated = False\n",
    "    step = 0\n",
    "\n",
    "    print(f\"\\nStarting Episode {episode + 1}\\n\")\n",
    "\n",
    "    while not (terminated or truncated):\n",
    "        step += 1\n",
    "        action, _states = model.predict(obs, deterministic=True)\n",
    "        obs, reward, terminated, truncated, info = test_env.step(action) \n",
    "        episode_reward += reward\n",
    "\n",
    "        test_env.render()\n",
    "\n",
    "    total_rewards.append(episode_reward)\n",
    "    print(f\"Episode {episode + 1} finished with Reward = {episode_reward}\")\n",
    "\n",
    "test_env.close()\n"
   ]
  },
  {
   "cell_type": "code",
   "execution_count": 7,
   "id": "0b2002fd",
   "metadata": {},
   "outputs": [
    {
     "name": "stdout",
     "output_type": "stream",
     "text": [
      "\n",
      "Average Reward over 10 episodes: 267.0105421183766\n",
      "Test successful! The agent performs well.\n"
     ]
    }
   ],
   "source": [
    "average_reward = sum(total_rewards) / episodes\n",
    "print(f\"\\nAverage Reward over {episodes} episodes: {average_reward}\")\n",
    "\n",
    "# Set the success threshold\n",
    "if average_reward > 200:\n",
    "    print(\"Test successful! The agent performs well.\")\n",
    "else:\n",
    "    print(\"Test incomplete. More training needed.\")"
   ]
  },
  {
   "cell_type": "markdown",
   "id": "811900ad",
   "metadata": {},
   "source": [
    "## If you want to play it yourself, run the block below :D"
   ]
  },
  {
   "cell_type": "code",
   "execution_count": 10,
   "id": "59e96e76",
   "metadata": {},
   "outputs": [],
   "source": [
    "import gymnasium as gym\n",
    "from gymnasium.utils.play import play\n",
    "play(gym.make(\"LunarLander-v2\", render_mode=\"rgb_array\"), keys_to_action={\"w\": 2, \"a\": 1, \"d\": 3}, noop=0)"
   ]
  },
  {
   "cell_type": "code",
   "execution_count": null,
   "id": "98612969",
   "metadata": {},
   "outputs": [],
   "source": []
  }
 ],
 "metadata": {
  "kernelspec": {
   "display_name": "venv",
   "language": "python",
   "name": "python3"
  },
  "language_info": {
   "codemirror_mode": {
    "name": "ipython",
    "version": 3
   },
   "file_extension": ".py",
   "mimetype": "text/x-python",
   "name": "python",
   "nbconvert_exporter": "python",
   "pygments_lexer": "ipython3",
   "version": "3.11.2"
  }
 },
 "nbformat": 4,
 "nbformat_minor": 5
}
