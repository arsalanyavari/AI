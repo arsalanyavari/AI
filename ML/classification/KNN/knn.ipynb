{
 "cells": [
  {
   "cell_type": "markdown",
   "id": "29b5381a-72b4-4f81-9208-2075f7acad85",
   "metadata": {},
   "source": [
    "# K Nearest Neighbor Classification"
   ]
  },
  {
   "cell_type": "markdown",
   "id": "cac03d32",
   "metadata": {},
   "source": [
    "Configure the project. Indeed you create a dataset in csv format."
   ]
  },
  {
   "cell_type": "code",
   "execution_count": 1,
   "id": "6f480cda-8380-4355-998a-5c59d6203b05",
   "metadata": {},
   "outputs": [
    {
     "name": "stdout",
     "output_type": "stream",
     "text": [
      "Archive:  ./dataset/archive.zip\n",
      "  inflating: Graduate.csv            \n",
      "  inflating: play.csv                \n"
     ]
    }
   ],
   "source": [
    "! rm -rf *.csv\n",
    "! unzip ./dataset/archive.zip\n",
    "! mv Graduate.csv data.csv\n"
   ]
  },
  {
   "cell_type": "markdown",
   "id": "52ec2f48",
   "metadata": {},
   "source": [
    "Import needed libraries"
   ]
  },
  {
   "cell_type": "code",
   "execution_count": 2,
   "id": "dd17f780",
   "metadata": {},
   "outputs": [],
   "source": [
    "import matplotlib.pyplot as plt\n",
    "import pandas as pd\n",
    "import numpy as np\n",
    "from sklearn.model_selection import train_test_split\n",
    "from sklearn.preprocessing import StandardScaler\n",
    "from sklearn.neighbors import KNeighborsClassifier\n",
    "from sklearn.metrics import accuracy_score, classification_report, precision_score, recall_score, f1_score\n",
    "import scikitplot as skplt\n",
    "\n",
    "%matplotlib inline"
   ]
  },
  {
   "cell_type": "markdown",
   "id": "57b33a77",
   "metadata": {},
   "source": [
    "Read data from data.csv using pandas and store in data frame structure. Also shuffle data to have uniform distribution. "
   ]
  },
  {
   "cell_type": "code",
   "execution_count": 3,
   "id": "a102a751",
   "metadata": {},
   "outputs": [
    {
     "data": {
      "text/html": [
       "<div>\n",
       "<style scoped>\n",
       "    .dataframe tbody tr th:only-of-type {\n",
       "        vertical-align: middle;\n",
       "    }\n",
       "\n",
       "    .dataframe tbody tr th {\n",
       "        vertical-align: top;\n",
       "    }\n",
       "\n",
       "    .dataframe thead th {\n",
       "        text-align: right;\n",
       "    }\n",
       "</style>\n",
       "<table border=\"1\" class=\"dataframe\">\n",
       "  <thead>\n",
       "    <tr style=\"text-align: right;\">\n",
       "      <th></th>\n",
       "      <th>Serial No.</th>\n",
       "      <th>GRE Score</th>\n",
       "      <th>TOEFL Score</th>\n",
       "      <th>University Rating</th>\n",
       "      <th>SOP</th>\n",
       "      <th>LOR</th>\n",
       "      <th>CGPA</th>\n",
       "      <th>Research</th>\n",
       "      <th>Admit</th>\n",
       "    </tr>\n",
       "  </thead>\n",
       "  <tbody>\n",
       "    <tr>\n",
       "      <th>0</th>\n",
       "      <td>362</td>\n",
       "      <td>334</td>\n",
       "      <td>116</td>\n",
       "      <td>4</td>\n",
       "      <td>4.0</td>\n",
       "      <td>3.5</td>\n",
       "      <td>9.54</td>\n",
       "      <td>1</td>\n",
       "      <td>1</td>\n",
       "    </tr>\n",
       "    <tr>\n",
       "      <th>1</th>\n",
       "      <td>74</td>\n",
       "      <td>314</td>\n",
       "      <td>108</td>\n",
       "      <td>4</td>\n",
       "      <td>4.5</td>\n",
       "      <td>4.0</td>\n",
       "      <td>9.04</td>\n",
       "      <td>1</td>\n",
       "      <td>1</td>\n",
       "    </tr>\n",
       "    <tr>\n",
       "      <th>2</th>\n",
       "      <td>375</td>\n",
       "      <td>315</td>\n",
       "      <td>105</td>\n",
       "      <td>2</td>\n",
       "      <td>2.0</td>\n",
       "      <td>2.5</td>\n",
       "      <td>7.65</td>\n",
       "      <td>0</td>\n",
       "      <td>0</td>\n",
       "    </tr>\n",
       "    <tr>\n",
       "      <th>3</th>\n",
       "      <td>156</td>\n",
       "      <td>312</td>\n",
       "      <td>109</td>\n",
       "      <td>3</td>\n",
       "      <td>3.0</td>\n",
       "      <td>3.0</td>\n",
       "      <td>8.69</td>\n",
       "      <td>0</td>\n",
       "      <td>1</td>\n",
       "    </tr>\n",
       "    <tr>\n",
       "      <th>4</th>\n",
       "      <td>105</td>\n",
       "      <td>326</td>\n",
       "      <td>112</td>\n",
       "      <td>3</td>\n",
       "      <td>3.5</td>\n",
       "      <td>3.0</td>\n",
       "      <td>9.05</td>\n",
       "      <td>1</td>\n",
       "      <td>1</td>\n",
       "    </tr>\n",
       "  </tbody>\n",
       "</table>\n",
       "</div>"
      ],
      "text/plain": [
       "   Serial No.  GRE Score  TOEFL Score  University Rating  SOP  LOR   CGPA  \\\n",
       "0         362        334          116                  4  4.0   3.5  9.54   \n",
       "1          74        314          108                  4  4.5   4.0  9.04   \n",
       "2         375        315          105                  2  2.0   2.5  7.65   \n",
       "3         156        312          109                  3  3.0   3.0  8.69   \n",
       "4         105        326          112                  3  3.5   3.0  9.05   \n",
       "\n",
       "   Research  Admit  \n",
       "0         1      1  \n",
       "1         1      1  \n",
       "2         0      0  \n",
       "3         0      1  \n",
       "4         1      1  "
      ]
     },
     "execution_count": 3,
     "metadata": {},
     "output_type": "execute_result"
    }
   ],
   "source": [
    "df = pd.read_csv(\"data.csv\")\n",
    "df.head()\n",
    "df = df.sample(frac=1.0, random_state=42).reset_index(drop=True)\n",
    "df.head()"
   ]
  },
  {
   "cell_type": "code",
   "execution_count": 4,
   "id": "6f063a14",
   "metadata": {},
   "outputs": [
    {
     "name": "stdout",
     "output_type": "stream",
     "text": [
      "(500, 9)\n",
      "\n",
      "################################################################################\n",
      "\n",
      "Index(['Serial No.', 'GRE Score', 'TOEFL Score', 'University Rating', 'SOP',\n",
      "       'LOR ', 'CGPA', 'Research', 'Admit'],\n",
      "      dtype='object')\n",
      "\n",
      "################################################################################\n",
      "\n",
      "Serial No.             int64\n",
      "GRE Score              int64\n",
      "TOEFL Score            int64\n",
      "University Rating      int64\n",
      "SOP                  float64\n",
      "LOR                  float64\n",
      "CGPA                 float64\n",
      "Research               int64\n",
      "Admit                  int64\n",
      "dtype: object\n"
     ]
    }
   ],
   "source": [
    "print(df.shape)\n",
    "print(\"\\n\" + \"#\" * 80 + \"\\n\")\n",
    "print(df.columns)\n",
    "print(\"\\n\" + \"#\" * 80 + \"\\n\")\n",
    "print(df.dtypes)"
   ]
  },
  {
   "cell_type": "code",
   "execution_count": 5,
   "id": "e4bf7dcd",
   "metadata": {},
   "outputs": [
    {
     "data": {
      "text/plain": [
       "Admit\n",
       "1    463\n",
       "0     37\n",
       "Name: count, dtype: int64"
      ]
     },
     "execution_count": 5,
     "metadata": {},
     "output_type": "execute_result"
    }
   ],
   "source": [
    "df['Admit'].value_counts()"
   ]
  },
  {
   "cell_type": "code",
   "execution_count": 6,
   "id": "93002df5",
   "metadata": {},
   "outputs": [
    {
     "data": {
      "text/html": [
       "<div>\n",
       "<style scoped>\n",
       "    .dataframe tbody tr th:only-of-type {\n",
       "        vertical-align: middle;\n",
       "    }\n",
       "\n",
       "    .dataframe tbody tr th {\n",
       "        vertical-align: top;\n",
       "    }\n",
       "\n",
       "    .dataframe thead th {\n",
       "        text-align: right;\n",
       "    }\n",
       "</style>\n",
       "<table border=\"1\" class=\"dataframe\">\n",
       "  <thead>\n",
       "    <tr style=\"text-align: right;\">\n",
       "      <th></th>\n",
       "      <th>Serial No.</th>\n",
       "      <th>GRE Score</th>\n",
       "      <th>TOEFL Score</th>\n",
       "      <th>University Rating</th>\n",
       "      <th>SOP</th>\n",
       "      <th>LOR</th>\n",
       "      <th>CGPA</th>\n",
       "      <th>Research</th>\n",
       "      <th>Admit</th>\n",
       "    </tr>\n",
       "  </thead>\n",
       "  <tbody>\n",
       "    <tr>\n",
       "      <th>count</th>\n",
       "      <td>500.000000</td>\n",
       "      <td>500.000000</td>\n",
       "      <td>500.000000</td>\n",
       "      <td>500.000000</td>\n",
       "      <td>500.000000</td>\n",
       "      <td>500.00000</td>\n",
       "      <td>500.000000</td>\n",
       "      <td>500.000000</td>\n",
       "      <td>500.000000</td>\n",
       "    </tr>\n",
       "    <tr>\n",
       "      <th>mean</th>\n",
       "      <td>250.500000</td>\n",
       "      <td>316.472000</td>\n",
       "      <td>107.192000</td>\n",
       "      <td>3.114000</td>\n",
       "      <td>3.374000</td>\n",
       "      <td>3.48400</td>\n",
       "      <td>8.576440</td>\n",
       "      <td>0.560000</td>\n",
       "      <td>0.926000</td>\n",
       "    </tr>\n",
       "    <tr>\n",
       "      <th>std</th>\n",
       "      <td>144.481833</td>\n",
       "      <td>11.295148</td>\n",
       "      <td>6.081868</td>\n",
       "      <td>1.143512</td>\n",
       "      <td>0.991004</td>\n",
       "      <td>0.92545</td>\n",
       "      <td>0.604813</td>\n",
       "      <td>0.496884</td>\n",
       "      <td>0.262033</td>\n",
       "    </tr>\n",
       "    <tr>\n",
       "      <th>min</th>\n",
       "      <td>1.000000</td>\n",
       "      <td>290.000000</td>\n",
       "      <td>92.000000</td>\n",
       "      <td>1.000000</td>\n",
       "      <td>1.000000</td>\n",
       "      <td>1.00000</td>\n",
       "      <td>6.800000</td>\n",
       "      <td>0.000000</td>\n",
       "      <td>0.000000</td>\n",
       "    </tr>\n",
       "    <tr>\n",
       "      <th>25%</th>\n",
       "      <td>125.750000</td>\n",
       "      <td>308.000000</td>\n",
       "      <td>103.000000</td>\n",
       "      <td>2.000000</td>\n",
       "      <td>2.500000</td>\n",
       "      <td>3.00000</td>\n",
       "      <td>8.127500</td>\n",
       "      <td>0.000000</td>\n",
       "      <td>1.000000</td>\n",
       "    </tr>\n",
       "    <tr>\n",
       "      <th>50%</th>\n",
       "      <td>250.500000</td>\n",
       "      <td>317.000000</td>\n",
       "      <td>107.000000</td>\n",
       "      <td>3.000000</td>\n",
       "      <td>3.500000</td>\n",
       "      <td>3.50000</td>\n",
       "      <td>8.560000</td>\n",
       "      <td>1.000000</td>\n",
       "      <td>1.000000</td>\n",
       "    </tr>\n",
       "    <tr>\n",
       "      <th>75%</th>\n",
       "      <td>375.250000</td>\n",
       "      <td>325.000000</td>\n",
       "      <td>112.000000</td>\n",
       "      <td>4.000000</td>\n",
       "      <td>4.000000</td>\n",
       "      <td>4.00000</td>\n",
       "      <td>9.040000</td>\n",
       "      <td>1.000000</td>\n",
       "      <td>1.000000</td>\n",
       "    </tr>\n",
       "    <tr>\n",
       "      <th>max</th>\n",
       "      <td>500.000000</td>\n",
       "      <td>340.000000</td>\n",
       "      <td>120.000000</td>\n",
       "      <td>5.000000</td>\n",
       "      <td>5.000000</td>\n",
       "      <td>5.00000</td>\n",
       "      <td>9.920000</td>\n",
       "      <td>1.000000</td>\n",
       "      <td>1.000000</td>\n",
       "    </tr>\n",
       "  </tbody>\n",
       "</table>\n",
       "</div>"
      ],
      "text/plain": [
       "       Serial No.   GRE Score  TOEFL Score  University Rating         SOP  \\\n",
       "count  500.000000  500.000000   500.000000         500.000000  500.000000   \n",
       "mean   250.500000  316.472000   107.192000           3.114000    3.374000   \n",
       "std    144.481833   11.295148     6.081868           1.143512    0.991004   \n",
       "min      1.000000  290.000000    92.000000           1.000000    1.000000   \n",
       "25%    125.750000  308.000000   103.000000           2.000000    2.500000   \n",
       "50%    250.500000  317.000000   107.000000           3.000000    3.500000   \n",
       "75%    375.250000  325.000000   112.000000           4.000000    4.000000   \n",
       "max    500.000000  340.000000   120.000000           5.000000    5.000000   \n",
       "\n",
       "            LOR         CGPA    Research       Admit  \n",
       "count  500.00000  500.000000  500.000000  500.000000  \n",
       "mean     3.48400    8.576440    0.560000    0.926000  \n",
       "std      0.92545    0.604813    0.496884    0.262033  \n",
       "min      1.00000    6.800000    0.000000    0.000000  \n",
       "25%      3.00000    8.127500    0.000000    1.000000  \n",
       "50%      3.50000    8.560000    1.000000    1.000000  \n",
       "75%      4.00000    9.040000    1.000000    1.000000  \n",
       "max      5.00000    9.920000    1.000000    1.000000  "
      ]
     },
     "execution_count": 6,
     "metadata": {},
     "output_type": "execute_result"
    }
   ],
   "source": [
    "# summarize data\n",
    "df.describe() "
   ]
  },
  {
   "cell_type": "markdown",
   "id": "7ebceb4d",
   "metadata": {},
   "source": [
    "Print the histogram chart of data"
   ]
  },
  {
   "cell_type": "code",
   "execution_count": 7,
   "id": "834eb664",
   "metadata": {},
   "outputs": [
    {
     "name": "stdout",
     "output_type": "stream",
     "text": [
      "Index(['Serial No.', 'GRE Score', 'TOEFL Score', 'University Rating', 'SOP',\n",
      "       'LOR ', 'CGPA', 'Research', 'Admit'],\n",
      "      dtype='object')\n"
     ]
    }
   ],
   "source": [
    "print(df.columns)"
   ]
  },
  {
   "cell_type": "code",
   "execution_count": 8,
   "id": "39faae37",
   "metadata": {},
   "outputs": [
    {
     "data": {
      "image/png": "[encoded data removed]",
      "text/plain": [
       "<Figure size 1600x700 with 8 Axes>"
      ]
     },
     "metadata": {},
     "output_type": "display_data"
    }
   ],
   "source": [
    "viz = df[['GRE Score', 'TOEFL Score', 'University Rating', 'SOP',\n",
    "       'LOR ', 'CGPA', 'Research', 'Admit']]\n",
    "fig, axes = plt.subplots(nrows=2, ncols=4, figsize=(16, 7))\n",
    "\n",
    "axes = axes.flatten()\n",
    "\n",
    "for i, column in enumerate(viz.columns):\n",
    "    viz[column].hist(ax=axes[i])\n",
    "    axes[i].set_title(column)\n",
    "\n",
    "\n",
    "plt.tight_layout()\n",
    "plt.show()"
   ]
  },
  {
   "cell_type": "code",
   "execution_count": 9,
   "id": "0068030a",
   "metadata": {},
   "outputs": [],
   "source": [
    "# print(df)\n",
    "train, test = train_test_split(df, test_size=0.20, random_state=42)\n",
    "# test, evaluate = train_test_split(test, test_size=0.5, random_state=42)"
   ]
  },
  {
   "cell_type": "markdown",
   "id": "70a01055",
   "metadata": {},
   "source": [
    "# Preprocessing "
   ]
  },
  {
   "cell_type": "code",
   "execution_count": 10,
   "id": "92f95186",
   "metadata": {},
   "outputs": [],
   "source": [
    "train_x = np.asanyarray(train[['GRE Score', 'TOEFL Score', 'University Rating', 'SOP', 'LOR ', 'CGPA', 'Research']])\n",
    "train_y = np.asanyarray(train['Admit'])"
   ]
  },
  {
   "cell_type": "code",
   "execution_count": 11,
   "id": "a3bb7499",
   "metadata": {},
   "outputs": [],
   "source": [
    "test_x = np.asanyarray(test[['GRE Score', 'TOEFL Score', 'University Rating', 'SOP', 'LOR ', 'CGPA', 'Research']])\n",
    "test_y = np.asanyarray(test['Admit'])"
   ]
  },
  {
   "cell_type": "code",
   "execution_count": 12,
   "id": "bce9d88c",
   "metadata": {},
   "outputs": [],
   "source": [
    "train_x = StandardScaler().fit(train_x).transform(train_x.astype(float))\n",
    "test_x = StandardScaler().fit(test_x).transform(test_x.astype(float))"
   ]
  },
  {
   "cell_type": "markdown",
   "id": "0df36b1e",
   "metadata": {},
   "source": [
    "# Train Phase"
   ]
  },
  {
   "cell_type": "code",
   "execution_count": 13,
   "id": "8f4e3b60",
   "metadata": {},
   "outputs": [],
   "source": [
    "k = 5\n",
    "model = KNeighborsClassifier(n_neighbors=k).fit(train_x, train_y)\n",
    "test_y_ = model.predict(test_x)"
   ]
  },
  {
   "cell_type": "markdown",
   "id": "43eafda9",
   "metadata": {},
   "source": [
    "## Evaluation"
   ]
  },
  {
   "cell_type": "code",
   "execution_count": 14,
   "id": "150897f7",
   "metadata": {},
   "outputs": [
    {
     "name": "stdout",
     "output_type": "stream",
     "text": [
      "Train Accuracy 0.9525\n",
      "Test Accuracy 0.95\n",
      "Test-set Precision 0.9484536082474226\n",
      "Test-set Recall 1.0\n",
      "Test-set F1-Score 0.9735449735449735\n"
     ]
    }
   ],
   "source": [
    "\n",
    "print(\"Train Accuracy\", accuracy_score(train_y, model.predict(train_x)))\n",
    "print(\"Test Accuracy\", accuracy_score(test_y, test_y_))\n",
    "\n",
    "print(\"Test-set Precision\", precision_score(test_y, test_y_))\n",
    "print(\"Test-set Recall\", recall_score(test_y, test_y_))\n",
    "print(\"Test-set F1-Score\", f1_score(test_y, test_y_))"
   ]
  },
  {
   "cell_type": "code",
   "execution_count": 15,
   "id": "4f79ab6f",
   "metadata": {},
   "outputs": [
    {
     "name": "stdout",
     "output_type": "stream",
     "text": [
      "Logistic Regression Classification Report:\n",
      "              precision    recall  f1-score   support\n",
      "\n",
      "           0       1.00      0.38      0.55         8\n",
      "           1       0.95      1.00      0.97        92\n",
      "\n",
      "    accuracy                           0.95       100\n",
      "   macro avg       0.97      0.69      0.76       100\n",
      "weighted avg       0.95      0.95      0.94       100\n",
      "\n",
      "Logistic Regression Confusion Matrix:\n"
     ]
    },
    {
     "data": {
      "text/plain": [
       "<Axes: title={'center': 'Confusion Matrix'}, xlabel='Predicted label', ylabel='True label'>"
      ]
     },
     "execution_count": 15,
     "metadata": {},
     "output_type": "execute_result"
    },
    {
     "data": {
      "image/png": "[encoded data removed]",
      "text/plain": [
       "<Figure size 640x480 with 2 Axes>"
      ]
     },
     "metadata": {},
     "output_type": "display_data"
    }
   ],
   "source": [
    "print(\"Logistic Regression Classification Report:\")\n",
    "print(classification_report(test_y, test_y_))\n",
    "\n",
    "print(\"Logistic Regression Confusion Matrix:\")\n",
    "skplt.metrics.plot_confusion_matrix(test_y, test_y_)"
   ]
  },
  {
   "cell_type": "markdown",
   "id": "bf549561",
   "metadata": {},
   "source": [
    "For imbalanced data like the one you've provided, the F1-score is often a better metric for evaluation. This is because the F1-score considers both precision and recall, providing a balance between the two. In imbalanced datasets, precision and recall alone might not give a full picture of the model performance. "
   ]
  },
  {
   "cell_type": "code",
   "execution_count": 17,
   "id": "44d38f58",
   "metadata": {},
   "outputs": [
    {
     "name": "stdout",
     "output_type": "stream",
     "text": [
      "Best f1-score: 0.9735449735449735\n",
      "Best Model: KNeighborsClassifier(n_neighbors=3)\n"
     ]
    }
   ],
   "source": [
    "best_f1score = 0\n",
    "best_model = None\n",
    "\n",
    "for k in range(1, 20, 2):\n",
    "    model = KNeighborsClassifier(n_neighbors=k).fit(train_x, train_y)\n",
    "    test_y_ = model.predict(test_x)\n",
    "    f1score = f1_score(test_y, test_y_)\n",
    "\n",
    "    if f1score > best_f1score:\n",
    "        best_f1score = f1score\n",
    "        best_model = model\n",
    "\n",
    "print(f\"Best f1-score: {best_f1score}\")\n",
    "print(f\"Best Model: {best_model}\")"
   ]
  },
  {
   "cell_type": "code",
   "execution_count": 18,
   "id": "74562360",
   "metadata": {},
   "outputs": [
    {
     "name": "stdout",
     "output_type": "stream",
     "text": [
      "Logistic Regression Classification Report:\n",
      "              precision    recall  f1-score   support\n",
      "\n",
      "           0       1.00      0.38      0.55         8\n",
      "           1       0.95      1.00      0.97        92\n",
      "\n",
      "    accuracy                           0.95       100\n",
      "   macro avg       0.97      0.69      0.76       100\n",
      "weighted avg       0.95      0.95      0.94       100\n",
      "\n",
      "Logistic Regression Confusion Matrix:\n"
     ]
    },
    {
     "data": {
      "text/plain": [
       "<Axes: title={'center': 'Confusion Matrix'}, xlabel='Predicted label', ylabel='True label'>"
      ]
     },
     "execution_count": 18,
     "metadata": {},
     "output_type": "execute_result"
    },
    {
     "data": {
      "image/png": "[encoded data removed]",
      "text/plain": [
       "<Figure size 640x480 with 2 Axes>"
      ]
     },
     "metadata": {},
     "output_type": "display_data"
    }
   ],
   "source": [
    "test_y_ = best_model.predict(test_x)\n",
    "\n",
    "print(\"Logistic Regression Classification Report:\")\n",
    "print(classification_report(test_y, test_y_))\n",
    "\n",
    "print(\"Logistic Regression Confusion Matrix:\")\n",
    "skplt.metrics.plot_confusion_matrix(test_y, test_y_)"
   ]
  }
 ],
 "metadata": {
  "kernelspec": {
   "display_name": "venv",
   "language": "python",
   "name": "python3"
  },
  "language_info": {
   "codemirror_mode": {
    "name": "ipython",
    "version": 3
   },
   "file_extension": ".py",
   "mimetype": "text/x-python",
   "name": "python",
   "nbconvert_exporter": "python",
   "pygments_lexer": "ipython3",
   "version": "3.11.2"
  }
 },
 "nbformat": 4,
 "nbformat_minor": 5
}
