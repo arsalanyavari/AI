{
 "cells": [
  {
   "cell_type": "markdown",
   "id": "54fc1b15",
   "metadata": {},
   "source": [
    "## Classify Digits"
   ]
  },
  {
   "cell_type": "markdown",
   "id": "0d20520d",
   "metadata": {},
   "source": [
    "Install needed library"
   ]
  },
  {
   "cell_type": "code",
   "execution_count": 1,
   "id": "e25f92fd",
   "metadata": {},
   "outputs": [
    {
     "name": "stdout",
     "output_type": "stream",
     "text": [
      "Requirement already satisfied: matplotlib==3.7.1 in /home/andre/miniconda3/envs/venv/lib/python3.12/site-packages (3.7.1)\n",
      "Requirement already satisfied: matplotlib-inline==0.1.7 in /home/andre/miniconda3/envs/venv/lib/python3.12/site-packages (0.1.7)\n",
      "Requirement already satisfied: matplotlib-venn==0.11.10 in /home/andre/miniconda3/envs/venv/lib/python3.12/site-packages (0.11.10)\n",
      "Requirement already satisfied: contourpy>=1.0.1 in /home/andre/miniconda3/envs/venv/lib/python3.12/site-packages (from matplotlib==3.7.1) (1.2.1)\n",
      "Requirement already satisfied: cycler>=0.10 in /home/andre/miniconda3/envs/venv/lib/python3.12/site-packages (from matplotlib==3.7.1) (0.12.1)\n",
      "Requirement already satisfied: fonttools>=4.22.0 in /home/andre/miniconda3/envs/venv/lib/python3.12/site-packages (from matplotlib==3.7.1) (4.53.1)\n",
      "Requirement already satisfied: kiwisolver>=1.0.1 in /home/andre/miniconda3/envs/venv/lib/python3.12/site-packages (from matplotlib==3.7.1) (1.4.5)\n",
      "Requirement already satisfied: numpy>=1.20 in /home/andre/miniconda3/envs/venv/lib/python3.12/site-packages (from matplotlib==3.7.1) (1.26.4)\n",
      "Requirement already satisfied: packaging>=20.0 in /home/andre/miniconda3/envs/venv/lib/python3.12/site-packages (from matplotlib==3.7.1) (24.1)\n",
      "Requirement already satisfied: pillow>=6.2.0 in /home/andre/miniconda3/envs/venv/lib/python3.12/site-packages (from matplotlib==3.7.1) (10.4.0)\n",
      "Requirement already satisfied: pyparsing>=2.3.1 in /home/andre/miniconda3/envs/venv/lib/python3.12/site-packages (from matplotlib==3.7.1) (3.1.2)\n",
      "Requirement already satisfied: python-dateutil>=2.7 in /home/andre/miniconda3/envs/venv/lib/python3.12/site-packages (from matplotlib==3.7.1) (2.9.0.post0)\n",
      "Requirement already satisfied: traitlets in /home/andre/miniconda3/envs/venv/lib/python3.12/site-packages (from matplotlib-inline==0.1.7) (5.14.3)\n",
      "Requirement already satisfied: scipy in /home/andre/miniconda3/envs/venv/lib/python3.12/site-packages (from matplotlib-venn==0.11.10) (1.14.0)\n",
      "Requirement already satisfied: six>=1.5 in /home/andre/miniconda3/envs/venv/lib/python3.12/site-packages (from python-dateutil>=2.7->matplotlib==3.7.1) (1.16.0)\n",
      "Requirement already satisfied: numpy==1.26.4 in /home/andre/miniconda3/envs/venv/lib/python3.12/site-packages (1.26.4)\n",
      "Requirement already satisfied: fastai==2.7.16 in /home/andre/miniconda3/envs/venv/lib/python3.12/site-packages (2.7.16)\n",
      "Requirement already satisfied: fastbook==0.0.29 in /home/andre/miniconda3/envs/venv/lib/python3.12/site-packages (0.0.29)\n",
      "Requirement already satisfied: pip in /home/andre/miniconda3/envs/venv/lib/python3.12/site-packages (from fastai==2.7.16) (24.2)\n",
      "Requirement already satisfied: packaging in /home/andre/miniconda3/envs/venv/lib/python3.12/site-packages (from fastai==2.7.16) (24.1)\n",
      "Requirement already satisfied: fastdownload<2,>=0.0.5 in /home/andre/miniconda3/envs/venv/lib/python3.12/site-packages (from fastai==2.7.16) (0.0.7)\n",
      "Requirement already satisfied: fastcore<1.6,>=1.5.29 in /home/andre/miniconda3/envs/venv/lib/python3.12/site-packages (from fastai==2.7.16) (1.5.55)\n",
      "Requirement already satisfied: torchvision>=0.11 in /home/andre/miniconda3/envs/venv/lib/python3.12/site-packages (from fastai==2.7.16) (0.19.0)\n",
      "Requirement already satisfied: matplotlib in /home/andre/miniconda3/envs/venv/lib/python3.12/site-packages (from fastai==2.7.16) (3.7.1)\n",
      "Requirement already satisfied: pandas in /home/andre/miniconda3/envs/venv/lib/python3.12/site-packages (from fastai==2.7.16) (2.2.2)\n",
      "Requirement already satisfied: requests in /home/andre/miniconda3/envs/venv/lib/python3.12/site-packages (from fastai==2.7.16) (2.32.3)\n",
      "Requirement already satisfied: pyyaml in /home/andre/miniconda3/envs/venv/lib/python3.12/site-packages (from fastai==2.7.16) (6.0.2)\n",
      "Requirement already satisfied: fastprogress>=0.2.4 in /home/andre/miniconda3/envs/venv/lib/python3.12/site-packages (from fastai==2.7.16) (1.0.3)\n",
      "Requirement already satisfied: pillow>=9.0.0 in /home/andre/miniconda3/envs/venv/lib/python3.12/site-packages (from fastai==2.7.16) (10.4.0)\n",
      "Requirement already satisfied: scikit-learn in /home/andre/miniconda3/envs/venv/lib/python3.12/site-packages (from fastai==2.7.16) (1.5.1)\n",
      "Requirement already satisfied: scipy in /home/andre/miniconda3/envs/venv/lib/python3.12/site-packages (from fastai==2.7.16) (1.14.0)\n",
      "Requirement already satisfied: spacy<4 in /home/andre/miniconda3/envs/venv/lib/python3.12/site-packages (from fastai==2.7.16) (3.7.5)\n",
      "Requirement already satisfied: torch<2.5,>=1.10 in /home/andre/miniconda3/envs/venv/lib/python3.12/site-packages (from fastai==2.7.16) (2.4.0)\n",
      "Requirement already satisfied: graphviz in /home/andre/miniconda3/envs/venv/lib/python3.12/site-packages (from fastbook==0.0.29) (0.20.3)\n",
      "Requirement already satisfied: transformers in /home/andre/miniconda3/envs/venv/lib/python3.12/site-packages (from fastbook==0.0.29) (4.44.0)\n",
      "Requirement already satisfied: datasets in /home/andre/miniconda3/envs/venv/lib/python3.12/site-packages (from fastbook==0.0.29) (2.20.0)\n",
      "Requirement already satisfied: ipywidgets<8 in /home/andre/miniconda3/envs/venv/lib/python3.12/site-packages (from fastbook==0.0.29) (7.8.3)\n",
      "Requirement already satisfied: sentencepiece in /home/andre/miniconda3/envs/venv/lib/python3.12/site-packages (from fastbook==0.0.29) (0.2.0)\n",
      "Requirement already satisfied: comm>=0.1.3 in /home/andre/miniconda3/envs/venv/lib/python3.12/site-packages (from ipywidgets<8->fastbook==0.0.29) (0.2.2)\n",
      "Requirement already satisfied: ipython-genutils~=0.2.0 in /home/andre/miniconda3/envs/venv/lib/python3.12/site-packages (from ipywidgets<8->fastbook==0.0.29) (0.2.0)\n",
      "Requirement already satisfied: traitlets>=4.3.1 in /home/andre/miniconda3/envs/venv/lib/python3.12/site-packages (from ipywidgets<8->fastbook==0.0.29) (5.14.3)\n",
      "Requirement already satisfied: widgetsnbextension~=3.6.8 in /home/andre/miniconda3/envs/venv/lib/python3.12/site-packages (from ipywidgets<8->fastbook==0.0.29) (3.6.8)\n",
      "Requirement already satisfied: ipython>=4.0.0 in /home/andre/miniconda3/envs/venv/lib/python3.12/site-packages (from ipywidgets<8->fastbook==0.0.29) (8.26.0)\n",
      "Requirement already satisfied: jupyterlab-widgets<3,>=1.0.0 in /home/andre/miniconda3/envs/venv/lib/python3.12/site-packages (from ipywidgets<8->fastbook==0.0.29) (1.1.9)\n",
      "Requirement already satisfied: spacy-legacy<3.1.0,>=3.0.11 in /home/andre/miniconda3/envs/venv/lib/python3.12/site-packages (from spacy<4->fastai==2.7.16) (3.0.12)\n",
      "Requirement already satisfied: spacy-loggers<2.0.0,>=1.0.0 in /home/andre/miniconda3/envs/venv/lib/python3.12/site-packages (from spacy<4->fastai==2.7.16) (1.0.5)\n",
      "Requirement already satisfied: murmurhash<1.1.0,>=0.28.0 in /home/andre/miniconda3/envs/venv/lib/python3.12/site-packages (from spacy<4->fastai==2.7.16) (1.0.10)\n",
      "Requirement already satisfied: cymem<2.1.0,>=2.0.2 in /home/andre/miniconda3/envs/venv/lib/python3.12/site-packages (from spacy<4->fastai==2.7.16) (2.0.8)\n",
      "Requirement already satisfied: preshed<3.1.0,>=3.0.2 in /home/andre/miniconda3/envs/venv/lib/python3.12/site-packages (from spacy<4->fastai==2.7.16) (3.0.9)\n",
      "Requirement already satisfied: thinc<8.3.0,>=8.2.2 in /home/andre/miniconda3/envs/venv/lib/python3.12/site-packages (from spacy<4->fastai==2.7.16) (8.2.5)\n",
      "Requirement already satisfied: wasabi<1.2.0,>=0.9.1 in /home/andre/miniconda3/envs/venv/lib/python3.12/site-packages (from spacy<4->fastai==2.7.16) (1.1.3)\n",
      "Requirement already satisfied: srsly<3.0.0,>=2.4.3 in /home/andre/miniconda3/envs/venv/lib/python3.12/site-packages (from spacy<4->fastai==2.7.16) (2.4.8)\n",
      "Requirement already satisfied: catalogue<2.1.0,>=2.0.6 in /home/andre/miniconda3/envs/venv/lib/python3.12/site-packages (from spacy<4->fastai==2.7.16) (2.0.10)\n",
      "Requirement already satisfied: weasel<0.5.0,>=0.1.0 in /home/andre/miniconda3/envs/venv/lib/python3.12/site-packages (from spacy<4->fastai==2.7.16) (0.4.1)\n",
      "Requirement already satisfied: typer<1.0.0,>=0.3.0 in /home/andre/miniconda3/envs/venv/lib/python3.12/site-packages (from spacy<4->fastai==2.7.16) (0.12.3)\n",
      "Requirement already satisfied: tqdm<5.0.0,>=4.38.0 in /home/andre/miniconda3/envs/venv/lib/python3.12/site-packages (from spacy<4->fastai==2.7.16) (4.66.5)\n",
      "Requirement already satisfied: pydantic!=1.8,!=1.8.1,<3.0.0,>=1.7.4 in /home/andre/miniconda3/envs/venv/lib/python3.12/site-packages (from spacy<4->fastai==2.7.16) (2.8.2)\n",
      "Requirement already satisfied: jinja2 in /home/andre/miniconda3/envs/venv/lib/python3.12/site-packages (from spacy<4->fastai==2.7.16) (3.1.4)\n",
      "Requirement already satisfied: setuptools in /home/andre/miniconda3/envs/venv/lib/python3.12/site-packages (from spacy<4->fastai==2.7.16) (72.1.0)\n",
      "Requirement already satisfied: langcodes<4.0.0,>=3.2.0 in /home/andre/miniconda3/envs/venv/lib/python3.12/site-packages (from spacy<4->fastai==2.7.16) (3.4.0)\n",
      "Requirement already satisfied: numpy>=1.19.0 in /home/andre/miniconda3/envs/venv/lib/python3.12/site-packages (from spacy<4->fastai==2.7.16) (1.26.4)\n",
      "Requirement already satisfied: charset-normalizer<4,>=2 in /home/andre/miniconda3/envs/venv/lib/python3.12/site-packages (from requests->fastai==2.7.16) (3.3.2)\n",
      "Requirement already satisfied: idna<4,>=2.5 in /home/andre/miniconda3/envs/venv/lib/python3.12/site-packages (from requests->fastai==2.7.16) (3.7)\n",
      "Requirement already satisfied: urllib3<3,>=1.21.1 in /home/andre/miniconda3/envs/venv/lib/python3.12/site-packages (from requests->fastai==2.7.16) (2.2.2)\n",
      "Requirement already satisfied: certifi>=2017.4.17 in /home/andre/miniconda3/envs/venv/lib/python3.12/site-packages (from requests->fastai==2.7.16) (2024.7.4)\n",
      "Requirement already satisfied: filelock in /home/andre/miniconda3/envs/venv/lib/python3.12/site-packages (from torch<2.5,>=1.10->fastai==2.7.16) (3.15.4)\n",
      "Requirement already satisfied: typing-extensions>=4.8.0 in /home/andre/miniconda3/envs/venv/lib/python3.12/site-packages (from torch<2.5,>=1.10->fastai==2.7.16) (4.12.2)\n",
      "Requirement already satisfied: sympy in /home/andre/miniconda3/envs/venv/lib/python3.12/site-packages (from torch<2.5,>=1.10->fastai==2.7.16) (1.13.2)\n",
      "Requirement already satisfied: networkx in /home/andre/miniconda3/envs/venv/lib/python3.12/site-packages (from torch<2.5,>=1.10->fastai==2.7.16) (3.3)\n",
      "Requirement already satisfied: fsspec in /home/andre/miniconda3/envs/venv/lib/python3.12/site-packages (from torch<2.5,>=1.10->fastai==2.7.16) (2024.5.0)\n",
      "Requirement already satisfied: nvidia-cuda-nvrtc-cu12==12.1.105 in /home/andre/miniconda3/envs/venv/lib/python3.12/site-packages (from torch<2.5,>=1.10->fastai==2.7.16) (12.1.105)\n",
      "Requirement already satisfied: nvidia-cuda-runtime-cu12==12.1.105 in /home/andre/miniconda3/envs/venv/lib/python3.12/site-packages (from torch<2.5,>=1.10->fastai==2.7.16) (12.1.105)\n",
      "Requirement already satisfied: nvidia-cuda-cupti-cu12==12.1.105 in /home/andre/miniconda3/envs/venv/lib/python3.12/site-packages (from torch<2.5,>=1.10->fastai==2.7.16) (12.1.105)\n",
      "Requirement already satisfied: nvidia-cudnn-cu12==9.1.0.70 in /home/andre/miniconda3/envs/venv/lib/python3.12/site-packages (from torch<2.5,>=1.10->fastai==2.7.16) (9.1.0.70)\n",
      "Requirement already satisfied: nvidia-cublas-cu12==12.1.3.1 in /home/andre/miniconda3/envs/venv/lib/python3.12/site-packages (from torch<2.5,>=1.10->fastai==2.7.16) (12.1.3.1)\n",
      "Requirement already satisfied: nvidia-cufft-cu12==11.0.2.54 in /home/andre/miniconda3/envs/venv/lib/python3.12/site-packages (from torch<2.5,>=1.10->fastai==2.7.16) (11.0.2.54)\n",
      "Requirement already satisfied: nvidia-curand-cu12==10.3.2.106 in /home/andre/miniconda3/envs/venv/lib/python3.12/site-packages (from torch<2.5,>=1.10->fastai==2.7.16) (10.3.2.106)\n",
      "Requirement already satisfied: nvidia-cusolver-cu12==11.4.5.107 in /home/andre/miniconda3/envs/venv/lib/python3.12/site-packages (from torch<2.5,>=1.10->fastai==2.7.16) (11.4.5.107)\n",
      "Requirement already satisfied: nvidia-cusparse-cu12==12.1.0.106 in /home/andre/miniconda3/envs/venv/lib/python3.12/site-packages (from torch<2.5,>=1.10->fastai==2.7.16) (12.1.0.106)\n",
      "Requirement already satisfied: nvidia-nccl-cu12==2.20.5 in /home/andre/miniconda3/envs/venv/lib/python3.12/site-packages (from torch<2.5,>=1.10->fastai==2.7.16) (2.20.5)\n",
      "Requirement already satisfied: nvidia-nvtx-cu12==12.1.105 in /home/andre/miniconda3/envs/venv/lib/python3.12/site-packages (from torch<2.5,>=1.10->fastai==2.7.16) (12.1.105)\n",
      "Requirement already satisfied: triton==3.0.0 in /home/andre/miniconda3/envs/venv/lib/python3.12/site-packages (from torch<2.5,>=1.10->fastai==2.7.16) (3.0.0)\n",
      "Requirement already satisfied: nvidia-nvjitlink-cu12 in /home/andre/miniconda3/envs/venv/lib/python3.12/site-packages (from nvidia-cusolver-cu12==11.4.5.107->torch<2.5,>=1.10->fastai==2.7.16) (12.6.20)\n",
      "Requirement already satisfied: pyarrow>=15.0.0 in /home/andre/miniconda3/envs/venv/lib/python3.12/site-packages (from datasets->fastbook==0.0.29) (17.0.0)\n",
      "Requirement already satisfied: pyarrow-hotfix in /home/andre/miniconda3/envs/venv/lib/python3.12/site-packages (from datasets->fastbook==0.0.29) (0.6)\n",
      "Requirement already satisfied: dill<0.3.9,>=0.3.0 in /home/andre/miniconda3/envs/venv/lib/python3.12/site-packages (from datasets->fastbook==0.0.29) (0.3.8)\n",
      "Requirement already satisfied: xxhash in /home/andre/miniconda3/envs/venv/lib/python3.12/site-packages (from datasets->fastbook==0.0.29) (3.4.1)\n",
      "Requirement already satisfied: multiprocess in /home/andre/miniconda3/envs/venv/lib/python3.12/site-packages (from datasets->fastbook==0.0.29) (0.70.16)\n",
      "Requirement already satisfied: aiohttp in /home/andre/miniconda3/envs/venv/lib/python3.12/site-packages (from datasets->fastbook==0.0.29) (3.10.3)\n",
      "Requirement already satisfied: huggingface-hub>=0.21.2 in /home/andre/miniconda3/envs/venv/lib/python3.12/site-packages (from datasets->fastbook==0.0.29) (0.24.5)\n",
      "Requirement already satisfied: contourpy>=1.0.1 in /home/andre/miniconda3/envs/venv/lib/python3.12/site-packages (from matplotlib->fastai==2.7.16) (1.2.1)\n",
      "Requirement already satisfied: cycler>=0.10 in /home/andre/miniconda3/envs/venv/lib/python3.12/site-packages (from matplotlib->fastai==2.7.16) (0.12.1)\n",
      "Requirement already satisfied: fonttools>=4.22.0 in /home/andre/miniconda3/envs/venv/lib/python3.12/site-packages (from matplotlib->fastai==2.7.16) (4.53.1)\n",
      "Requirement already satisfied: kiwisolver>=1.0.1 in /home/andre/miniconda3/envs/venv/lib/python3.12/site-packages (from matplotlib->fastai==2.7.16) (1.4.5)\n",
      "Requirement already satisfied: pyparsing>=2.3.1 in /home/andre/miniconda3/envs/venv/lib/python3.12/site-packages (from matplotlib->fastai==2.7.16) (3.1.2)\n",
      "Requirement already satisfied: python-dateutil>=2.7 in /home/andre/miniconda3/envs/venv/lib/python3.12/site-packages (from matplotlib->fastai==2.7.16) (2.9.0.post0)\n",
      "Requirement already satisfied: pytz>=2020.1 in /home/andre/miniconda3/envs/venv/lib/python3.12/site-packages (from pandas->fastai==2.7.16) (2024.1)\n",
      "Requirement already satisfied: tzdata>=2022.7 in /home/andre/miniconda3/envs/venv/lib/python3.12/site-packages (from pandas->fastai==2.7.16) (2024.1)\n",
      "Requirement already satisfied: joblib>=1.2.0 in /home/andre/miniconda3/envs/venv/lib/python3.12/site-packages (from scikit-learn->fastai==2.7.16) (1.4.2)\n",
      "Requirement already satisfied: threadpoolctl>=3.1.0 in /home/andre/miniconda3/envs/venv/lib/python3.12/site-packages (from scikit-learn->fastai==2.7.16) (3.5.0)\n",
      "Requirement already satisfied: regex!=2019.12.17 in /home/andre/miniconda3/envs/venv/lib/python3.12/site-packages (from transformers->fastbook==0.0.29) (2024.7.24)\n",
      "Requirement already satisfied: safetensors>=0.4.1 in /home/andre/miniconda3/envs/venv/lib/python3.12/site-packages (from transformers->fastbook==0.0.29) (0.4.4)\n",
      "Requirement already satisfied: tokenizers<0.20,>=0.19 in /home/andre/miniconda3/envs/venv/lib/python3.12/site-packages (from transformers->fastbook==0.0.29) (0.19.1)\n",
      "Requirement already satisfied: aiohappyeyeballs>=2.3.0 in /home/andre/miniconda3/envs/venv/lib/python3.12/site-packages (from aiohttp->datasets->fastbook==0.0.29) (2.3.5)\n",
      "Requirement already satisfied: aiosignal>=1.1.2 in /home/andre/miniconda3/envs/venv/lib/python3.12/site-packages (from aiohttp->datasets->fastbook==0.0.29) (1.3.1)\n",
      "Requirement already satisfied: attrs>=17.3.0 in /home/andre/miniconda3/envs/venv/lib/python3.12/site-packages (from aiohttp->datasets->fastbook==0.0.29) (24.2.0)\n",
      "Requirement already satisfied: frozenlist>=1.1.1 in /home/andre/miniconda3/envs/venv/lib/python3.12/site-packages (from aiohttp->datasets->fastbook==0.0.29) (1.4.1)\n",
      "Requirement already satisfied: multidict<7.0,>=4.5 in /home/andre/miniconda3/envs/venv/lib/python3.12/site-packages (from aiohttp->datasets->fastbook==0.0.29) (6.0.5)\n",
      "Requirement already satisfied: yarl<2.0,>=1.0 in /home/andre/miniconda3/envs/venv/lib/python3.12/site-packages (from aiohttp->datasets->fastbook==0.0.29) (1.9.4)\n",
      "Requirement already satisfied: decorator in /home/andre/miniconda3/envs/venv/lib/python3.12/site-packages (from ipython>=4.0.0->ipywidgets<8->fastbook==0.0.29) (5.1.1)\n",
      "Requirement already satisfied: jedi>=0.16 in /home/andre/miniconda3/envs/venv/lib/python3.12/site-packages (from ipython>=4.0.0->ipywidgets<8->fastbook==0.0.29) (0.19.1)\n",
      "Requirement already satisfied: matplotlib-inline in /home/andre/miniconda3/envs/venv/lib/python3.12/site-packages (from ipython>=4.0.0->ipywidgets<8->fastbook==0.0.29) (0.1.7)\n",
      "Requirement already satisfied: prompt-toolkit<3.1.0,>=3.0.41 in /home/andre/miniconda3/envs/venv/lib/python3.12/site-packages (from ipython>=4.0.0->ipywidgets<8->fastbook==0.0.29) (3.0.47)\n",
      "Requirement already satisfied: pygments>=2.4.0 in /home/andre/miniconda3/envs/venv/lib/python3.12/site-packages (from ipython>=4.0.0->ipywidgets<8->fastbook==0.0.29) (2.18.0)\n",
      "Requirement already satisfied: stack-data in /home/andre/miniconda3/envs/venv/lib/python3.12/site-packages (from ipython>=4.0.0->ipywidgets<8->fastbook==0.0.29) (0.6.3)\n",
      "Requirement already satisfied: pexpect>4.3 in /home/andre/miniconda3/envs/venv/lib/python3.12/site-packages (from ipython>=4.0.0->ipywidgets<8->fastbook==0.0.29) (4.9.0)\n",
      "Requirement already satisfied: language-data>=1.2 in /home/andre/miniconda3/envs/venv/lib/python3.12/site-packages (from langcodes<4.0.0,>=3.2.0->spacy<4->fastai==2.7.16) (1.2.0)\n",
      "Requirement already satisfied: annotated-types>=0.4.0 in /home/andre/miniconda3/envs/venv/lib/python3.12/site-packages (from pydantic!=1.8,!=1.8.1,<3.0.0,>=1.7.4->spacy<4->fastai==2.7.16) (0.7.0)\n",
      "Requirement already satisfied: pydantic-core==2.20.1 in /home/andre/miniconda3/envs/venv/lib/python3.12/site-packages (from pydantic!=1.8,!=1.8.1,<3.0.0,>=1.7.4->spacy<4->fastai==2.7.16) (2.20.1)\n",
      "Requirement already satisfied: six>=1.5 in /home/andre/miniconda3/envs/venv/lib/python3.12/site-packages (from python-dateutil>=2.7->matplotlib->fastai==2.7.16) (1.16.0)\n",
      "Requirement already satisfied: blis<0.8.0,>=0.7.8 in /home/andre/miniconda3/envs/venv/lib/python3.12/site-packages (from thinc<8.3.0,>=8.2.2->spacy<4->fastai==2.7.16) (0.7.11)\n",
      "Requirement already satisfied: confection<1.0.0,>=0.0.1 in /home/andre/miniconda3/envs/venv/lib/python3.12/site-packages (from thinc<8.3.0,>=8.2.2->spacy<4->fastai==2.7.16) (0.1.5)\n",
      "Requirement already satisfied: click>=8.0.0 in /home/andre/miniconda3/envs/venv/lib/python3.12/site-packages (from typer<1.0.0,>=0.3.0->spacy<4->fastai==2.7.16) (8.1.7)\n",
      "Requirement already satisfied: shellingham>=1.3.0 in /home/andre/miniconda3/envs/venv/lib/python3.12/site-packages (from typer<1.0.0,>=0.3.0->spacy<4->fastai==2.7.16) (1.5.4)\n",
      "Requirement already satisfied: rich>=10.11.0 in /home/andre/miniconda3/envs/venv/lib/python3.12/site-packages (from typer<1.0.0,>=0.3.0->spacy<4->fastai==2.7.16) (13.7.1)\n",
      "Requirement already satisfied: cloudpathlib<1.0.0,>=0.7.0 in /home/andre/miniconda3/envs/venv/lib/python3.12/site-packages (from weasel<0.5.0,>=0.1.0->spacy<4->fastai==2.7.16) (0.18.1)\n",
      "Requirement already satisfied: smart-open<8.0.0,>=5.2.1 in /home/andre/miniconda3/envs/venv/lib/python3.12/site-packages (from weasel<0.5.0,>=0.1.0->spacy<4->fastai==2.7.16) (7.0.4)\n",
      "Requirement already satisfied: notebook>=4.4.1 in /home/andre/miniconda3/envs/venv/lib/python3.12/site-packages (from widgetsnbextension~=3.6.8->ipywidgets<8->fastbook==0.0.29) (7.2.1)\n",
      "Requirement already satisfied: MarkupSafe>=2.0 in /home/andre/miniconda3/envs/venv/lib/python3.12/site-packages (from jinja2->spacy<4->fastai==2.7.16) (2.1.5)\n",
      "Requirement already satisfied: mpmath<1.4,>=1.1.0 in /home/andre/miniconda3/envs/venv/lib/python3.12/site-packages (from sympy->torch<2.5,>=1.10->fastai==2.7.16) (1.3.0)\n",
      "Requirement already satisfied: parso<0.9.0,>=0.8.3 in /home/andre/miniconda3/envs/venv/lib/python3.12/site-packages (from jedi>=0.16->ipython>=4.0.0->ipywidgets<8->fastbook==0.0.29) (0.8.4)\n",
      "Requirement already satisfied: marisa-trie>=0.7.7 in /home/andre/miniconda3/envs/venv/lib/python3.12/site-packages (from language-data>=1.2->langcodes<4.0.0,>=3.2.0->spacy<4->fastai==2.7.16) (1.2.0)\n",
      "Requirement already satisfied: jupyter-server<3,>=2.4.0 in /home/andre/miniconda3/envs/venv/lib/python3.12/site-packages (from notebook>=4.4.1->widgetsnbextension~=3.6.8->ipywidgets<8->fastbook==0.0.29) (2.14.2)\n",
      "Requirement already satisfied: jupyterlab-server<3,>=2.27.1 in /home/andre/miniconda3/envs/venv/lib/python3.12/site-packages (from notebook>=4.4.1->widgetsnbextension~=3.6.8->ipywidgets<8->fastbook==0.0.29) (2.27.3)\n",
      "Requirement already satisfied: jupyterlab<4.3,>=4.2.0 in /home/andre/miniconda3/envs/venv/lib/python3.12/site-packages (from notebook>=4.4.1->widgetsnbextension~=3.6.8->ipywidgets<8->fastbook==0.0.29) (4.2.4)\n",
      "Requirement already satisfied: notebook-shim<0.3,>=0.2 in /home/andre/miniconda3/envs/venv/lib/python3.12/site-packages (from notebook>=4.4.1->widgetsnbextension~=3.6.8->ipywidgets<8->fastbook==0.0.29) (0.2.4)\n",
      "Requirement already satisfied: tornado>=6.2.0 in /home/andre/miniconda3/envs/venv/lib/python3.12/site-packages (from notebook>=4.4.1->widgetsnbextension~=3.6.8->ipywidgets<8->fastbook==0.0.29) (6.4.1)\n",
      "Requirement already satisfied: ptyprocess>=0.5 in /home/andre/miniconda3/envs/venv/lib/python3.12/site-packages (from pexpect>4.3->ipython>=4.0.0->ipywidgets<8->fastbook==0.0.29) (0.7.0)\n",
      "Requirement already satisfied: wcwidth in /home/andre/miniconda3/envs/venv/lib/python3.12/site-packages (from prompt-toolkit<3.1.0,>=3.0.41->ipython>=4.0.0->ipywidgets<8->fastbook==0.0.29) (0.2.13)\n",
      "Requirement already satisfied: markdown-it-py>=2.2.0 in /home/andre/miniconda3/envs/venv/lib/python3.12/site-packages (from rich>=10.11.0->typer<1.0.0,>=0.3.0->spacy<4->fastai==2.7.16) (3.0.0)\n",
      "Requirement already satisfied: wrapt in /home/andre/miniconda3/envs/venv/lib/python3.12/site-packages (from smart-open<8.0.0,>=5.2.1->weasel<0.5.0,>=0.1.0->spacy<4->fastai==2.7.16) (1.16.0)\n",
      "Requirement already satisfied: executing>=1.2.0 in /home/andre/miniconda3/envs/venv/lib/python3.12/site-packages (from stack-data->ipython>=4.0.0->ipywidgets<8->fastbook==0.0.29) (2.0.1)\n",
      "Requirement already satisfied: asttokens>=2.1.0 in /home/andre/miniconda3/envs/venv/lib/python3.12/site-packages (from stack-data->ipython>=4.0.0->ipywidgets<8->fastbook==0.0.29) (2.4.1)\n",
      "Requirement already satisfied: pure-eval in /home/andre/miniconda3/envs/venv/lib/python3.12/site-packages (from stack-data->ipython>=4.0.0->ipywidgets<8->fastbook==0.0.29) (0.2.3)\n",
      "Requirement already satisfied: anyio>=3.1.0 in /home/andre/miniconda3/envs/venv/lib/python3.12/site-packages (from jupyter-server<3,>=2.4.0->notebook>=4.4.1->widgetsnbextension~=3.6.8->ipywidgets<8->fastbook==0.0.29) (4.4.0)\n",
      "Requirement already satisfied: argon2-cffi>=21.1 in /home/andre/miniconda3/envs/venv/lib/python3.12/site-packages (from jupyter-server<3,>=2.4.0->notebook>=4.4.1->widgetsnbextension~=3.6.8->ipywidgets<8->fastbook==0.0.29) (23.1.0)\n",
      "Requirement already satisfied: jupyter-client>=7.4.4 in /home/andre/miniconda3/envs/venv/lib/python3.12/site-packages (from jupyter-server<3,>=2.4.0->notebook>=4.4.1->widgetsnbextension~=3.6.8->ipywidgets<8->fastbook==0.0.29) (8.6.2)\n",
      "Requirement already satisfied: jupyter-core!=5.0.*,>=4.12 in /home/andre/miniconda3/envs/venv/lib/python3.12/site-packages (from jupyter-server<3,>=2.4.0->notebook>=4.4.1->widgetsnbextension~=3.6.8->ipywidgets<8->fastbook==0.0.29) (5.7.2)\n",
      "Requirement already satisfied: jupyter-events>=0.9.0 in /home/andre/miniconda3/envs/venv/lib/python3.12/site-packages (from jupyter-server<3,>=2.4.0->notebook>=4.4.1->widgetsnbextension~=3.6.8->ipywidgets<8->fastbook==0.0.29) (0.10.0)\n",
      "Requirement already satisfied: jupyter-server-terminals>=0.4.4 in /home/andre/miniconda3/envs/venv/lib/python3.12/site-packages (from jupyter-server<3,>=2.4.0->notebook>=4.4.1->widgetsnbextension~=3.6.8->ipywidgets<8->fastbook==0.0.29) (0.5.3)\n",
      "Requirement already satisfied: nbconvert>=6.4.4 in /home/andre/miniconda3/envs/venv/lib/python3.12/site-packages (from jupyter-server<3,>=2.4.0->notebook>=4.4.1->widgetsnbextension~=3.6.8->ipywidgets<8->fastbook==0.0.29) (7.16.4)\n",
      "Requirement already satisfied: nbformat>=5.3.0 in /home/andre/miniconda3/envs/venv/lib/python3.12/site-packages (from jupyter-server<3,>=2.4.0->notebook>=4.4.1->widgetsnbextension~=3.6.8->ipywidgets<8->fastbook==0.0.29) (5.10.4)\n",
      "Requirement already satisfied: overrides>=5.0 in /home/andre/miniconda3/envs/venv/lib/python3.12/site-packages (from jupyter-server<3,>=2.4.0->notebook>=4.4.1->widgetsnbextension~=3.6.8->ipywidgets<8->fastbook==0.0.29) (7.7.0)\n",
      "Requirement already satisfied: prometheus-client>=0.9 in /home/andre/miniconda3/envs/venv/lib/python3.12/site-packages (from jupyter-server<3,>=2.4.0->notebook>=4.4.1->widgetsnbextension~=3.6.8->ipywidgets<8->fastbook==0.0.29) (0.20.0)\n",
      "Requirement already satisfied: pyzmq>=24 in /home/andre/miniconda3/envs/venv/lib/python3.12/site-packages (from jupyter-server<3,>=2.4.0->notebook>=4.4.1->widgetsnbextension~=3.6.8->ipywidgets<8->fastbook==0.0.29) (26.1.0)\n",
      "Requirement already satisfied: send2trash>=1.8.2 in /home/andre/miniconda3/envs/venv/lib/python3.12/site-packages (from jupyter-server<3,>=2.4.0->notebook>=4.4.1->widgetsnbextension~=3.6.8->ipywidgets<8->fastbook==0.0.29) (1.8.3)\n",
      "Requirement already satisfied: terminado>=0.8.3 in /home/andre/miniconda3/envs/venv/lib/python3.12/site-packages (from jupyter-server<3,>=2.4.0->notebook>=4.4.1->widgetsnbextension~=3.6.8->ipywidgets<8->fastbook==0.0.29) (0.18.1)\n",
      "Requirement already satisfied: websocket-client>=1.7 in /home/andre/miniconda3/envs/venv/lib/python3.12/site-packages (from jupyter-server<3,>=2.4.0->notebook>=4.4.1->widgetsnbextension~=3.6.8->ipywidgets<8->fastbook==0.0.29) (1.8.0)\n",
      "Requirement already satisfied: async-lru>=1.0.0 in /home/andre/miniconda3/envs/venv/lib/python3.12/site-packages (from jupyterlab<4.3,>=4.2.0->notebook>=4.4.1->widgetsnbextension~=3.6.8->ipywidgets<8->fastbook==0.0.29) (2.0.4)\n",
      "Requirement already satisfied: httpx>=0.25.0 in /home/andre/miniconda3/envs/venv/lib/python3.12/site-packages (from jupyterlab<4.3,>=4.2.0->notebook>=4.4.1->widgetsnbextension~=3.6.8->ipywidgets<8->fastbook==0.0.29) (0.27.0)\n",
      "Requirement already satisfied: ipykernel>=6.5.0 in /home/andre/miniconda3/envs/venv/lib/python3.12/site-packages (from jupyterlab<4.3,>=4.2.0->notebook>=4.4.1->widgetsnbextension~=3.6.8->ipywidgets<8->fastbook==0.0.29) (6.29.5)\n",
      "Requirement already satisfied: jupyter-lsp>=2.0.0 in /home/andre/miniconda3/envs/venv/lib/python3.12/site-packages (from jupyterlab<4.3,>=4.2.0->notebook>=4.4.1->widgetsnbextension~=3.6.8->ipywidgets<8->fastbook==0.0.29) (2.2.5)\n",
      "Requirement already satisfied: babel>=2.10 in /home/andre/miniconda3/envs/venv/lib/python3.12/site-packages (from jupyterlab-server<3,>=2.27.1->notebook>=4.4.1->widgetsnbextension~=3.6.8->ipywidgets<8->fastbook==0.0.29) (2.16.0)\n",
      "Requirement already satisfied: json5>=0.9.0 in /home/andre/miniconda3/envs/venv/lib/python3.12/site-packages (from jupyterlab-server<3,>=2.27.1->notebook>=4.4.1->widgetsnbextension~=3.6.8->ipywidgets<8->fastbook==0.0.29) (0.9.25)\n",
      "Requirement already satisfied: jsonschema>=4.18.0 in /home/andre/miniconda3/envs/venv/lib/python3.12/site-packages (from jupyterlab-server<3,>=2.27.1->notebook>=4.4.1->widgetsnbextension~=3.6.8->ipywidgets<8->fastbook==0.0.29) (4.23.0)\n",
      "Requirement already satisfied: mdurl~=0.1 in /home/andre/miniconda3/envs/venv/lib/python3.12/site-packages (from markdown-it-py>=2.2.0->rich>=10.11.0->typer<1.0.0,>=0.3.0->spacy<4->fastai==2.7.16) (0.1.2)\n",
      "Requirement already satisfied: sniffio>=1.1 in /home/andre/miniconda3/envs/venv/lib/python3.12/site-packages (from anyio>=3.1.0->jupyter-server<3,>=2.4.0->notebook>=4.4.1->widgetsnbextension~=3.6.8->ipywidgets<8->fastbook==0.0.29) (1.3.1)\n",
      "Requirement already satisfied: argon2-cffi-bindings in /home/andre/miniconda3/envs/venv/lib/python3.12/site-packages (from argon2-cffi>=21.1->jupyter-server<3,>=2.4.0->notebook>=4.4.1->widgetsnbextension~=3.6.8->ipywidgets<8->fastbook==0.0.29) (21.2.0)\n",
      "Requirement already satisfied: httpcore==1.* in /home/andre/miniconda3/envs/venv/lib/python3.12/site-packages (from httpx>=0.25.0->jupyterlab<4.3,>=4.2.0->notebook>=4.4.1->widgetsnbextension~=3.6.8->ipywidgets<8->fastbook==0.0.29) (1.0.5)\n",
      "Requirement already satisfied: h11<0.15,>=0.13 in /home/andre/miniconda3/envs/venv/lib/python3.12/site-packages (from httpcore==1.*->httpx>=0.25.0->jupyterlab<4.3,>=4.2.0->notebook>=4.4.1->widgetsnbextension~=3.6.8->ipywidgets<8->fastbook==0.0.29) (0.14.0)\n",
      "Requirement already satisfied: debugpy>=1.6.5 in /home/andre/miniconda3/envs/venv/lib/python3.12/site-packages (from ipykernel>=6.5.0->jupyterlab<4.3,>=4.2.0->notebook>=4.4.1->widgetsnbextension~=3.6.8->ipywidgets<8->fastbook==0.0.29) (1.8.5)\n",
      "Requirement already satisfied: nest-asyncio in /home/andre/miniconda3/envs/venv/lib/python3.12/site-packages (from ipykernel>=6.5.0->jupyterlab<4.3,>=4.2.0->notebook>=4.4.1->widgetsnbextension~=3.6.8->ipywidgets<8->fastbook==0.0.29) (1.6.0)\n",
      "Requirement already satisfied: psutil in /home/andre/miniconda3/envs/venv/lib/python3.12/site-packages (from ipykernel>=6.5.0->jupyterlab<4.3,>=4.2.0->notebook>=4.4.1->widgetsnbextension~=3.6.8->ipywidgets<8->fastbook==0.0.29) (6.0.0)\n",
      "Requirement already satisfied: jsonschema-specifications>=2023.03.6 in /home/andre/miniconda3/envs/venv/lib/python3.12/site-packages (from jsonschema>=4.18.0->jupyterlab-server<3,>=2.27.1->notebook>=4.4.1->widgetsnbextension~=3.6.8->ipywidgets<8->fastbook==0.0.29) (2023.12.1)\n",
      "Requirement already satisfied: referencing>=0.28.4 in /home/andre/miniconda3/envs/venv/lib/python3.12/site-packages (from jsonschema>=4.18.0->jupyterlab-server<3,>=2.27.1->notebook>=4.4.1->widgetsnbextension~=3.6.8->ipywidgets<8->fastbook==0.0.29) (0.35.1)\n",
      "Requirement already satisfied: rpds-py>=0.7.1 in /home/andre/miniconda3/envs/venv/lib/python3.12/site-packages (from jsonschema>=4.18.0->jupyterlab-server<3,>=2.27.1->notebook>=4.4.1->widgetsnbextension~=3.6.8->ipywidgets<8->fastbook==0.0.29) (0.20.0)\n",
      "Requirement already satisfied: platformdirs>=2.5 in /home/andre/miniconda3/envs/venv/lib/python3.12/site-packages (from jupyter-core!=5.0.*,>=4.12->jupyter-server<3,>=2.4.0->notebook>=4.4.1->widgetsnbextension~=3.6.8->ipywidgets<8->fastbook==0.0.29) (4.2.2)\n",
      "Requirement already satisfied: python-json-logger>=2.0.4 in /home/andre/miniconda3/envs/venv/lib/python3.12/site-packages (from jupyter-events>=0.9.0->jupyter-server<3,>=2.4.0->notebook>=4.4.1->widgetsnbextension~=3.6.8->ipywidgets<8->fastbook==0.0.29) (2.0.7)\n",
      "Requirement already satisfied: rfc3339-validator in /home/andre/miniconda3/envs/venv/lib/python3.12/site-packages (from jupyter-events>=0.9.0->jupyter-server<3,>=2.4.0->notebook>=4.4.1->widgetsnbextension~=3.6.8->ipywidgets<8->fastbook==0.0.29) (0.1.4)\n",
      "Requirement already satisfied: rfc3986-validator>=0.1.1 in /home/andre/miniconda3/envs/venv/lib/python3.12/site-packages (from jupyter-events>=0.9.0->jupyter-server<3,>=2.4.0->notebook>=4.4.1->widgetsnbextension~=3.6.8->ipywidgets<8->fastbook==0.0.29) (0.1.1)\n",
      "Requirement already satisfied: beautifulsoup4 in /home/andre/miniconda3/envs/venv/lib/python3.12/site-packages (from nbconvert>=6.4.4->jupyter-server<3,>=2.4.0->notebook>=4.4.1->widgetsnbextension~=3.6.8->ipywidgets<8->fastbook==0.0.29) (4.12.3)\n",
      "Requirement already satisfied: bleach!=5.0.0 in /home/andre/miniconda3/envs/venv/lib/python3.12/site-packages (from nbconvert>=6.4.4->jupyter-server<3,>=2.4.0->notebook>=4.4.1->widgetsnbextension~=3.6.8->ipywidgets<8->fastbook==0.0.29) (6.1.0)\n",
      "Requirement already satisfied: defusedxml in /home/andre/miniconda3/envs/venv/lib/python3.12/site-packages (from nbconvert>=6.4.4->jupyter-server<3,>=2.4.0->notebook>=4.4.1->widgetsnbextension~=3.6.8->ipywidgets<8->fastbook==0.0.29) (0.7.1)\n",
      "Requirement already satisfied: jupyterlab-pygments in /home/andre/miniconda3/envs/venv/lib/python3.12/site-packages (from nbconvert>=6.4.4->jupyter-server<3,>=2.4.0->notebook>=4.4.1->widgetsnbextension~=3.6.8->ipywidgets<8->fastbook==0.0.29) (0.3.0)\n",
      "Requirement already satisfied: mistune<4,>=2.0.3 in /home/andre/miniconda3/envs/venv/lib/python3.12/site-packages (from nbconvert>=6.4.4->jupyter-server<3,>=2.4.0->notebook>=4.4.1->widgetsnbextension~=3.6.8->ipywidgets<8->fastbook==0.0.29) (3.0.2)\n",
      "Requirement already satisfied: nbclient>=0.5.0 in /home/andre/miniconda3/envs/venv/lib/python3.12/site-packages (from nbconvert>=6.4.4->jupyter-server<3,>=2.4.0->notebook>=4.4.1->widgetsnbextension~=3.6.8->ipywidgets<8->fastbook==0.0.29) (0.10.0)\n",
      "Requirement already satisfied: pandocfilters>=1.4.1 in /home/andre/miniconda3/envs/venv/lib/python3.12/site-packages (from nbconvert>=6.4.4->jupyter-server<3,>=2.4.0->notebook>=4.4.1->widgetsnbextension~=3.6.8->ipywidgets<8->fastbook==0.0.29) (1.5.1)\n",
      "Requirement already satisfied: tinycss2 in /home/andre/miniconda3/envs/venv/lib/python3.12/site-packages (from nbconvert>=6.4.4->jupyter-server<3,>=2.4.0->notebook>=4.4.1->widgetsnbextension~=3.6.8->ipywidgets<8->fastbook==0.0.29) (1.3.0)\n",
      "Requirement already satisfied: fastjsonschema>=2.15 in /home/andre/miniconda3/envs/venv/lib/python3.12/site-packages (from nbformat>=5.3.0->jupyter-server<3,>=2.4.0->notebook>=4.4.1->widgetsnbextension~=3.6.8->ipywidgets<8->fastbook==0.0.29) (2.20.0)\n",
      "Requirement already satisfied: webencodings in /home/andre/miniconda3/envs/venv/lib/python3.12/site-packages (from bleach!=5.0.0->nbconvert>=6.4.4->jupyter-server<3,>=2.4.0->notebook>=4.4.1->widgetsnbextension~=3.6.8->ipywidgets<8->fastbook==0.0.29) (0.5.1)\n",
      "Requirement already satisfied: fqdn in /home/andre/miniconda3/envs/venv/lib/python3.12/site-packages (from jsonschema[format-nongpl]>=4.18.0->jupyter-events>=0.9.0->jupyter-server<3,>=2.4.0->notebook>=4.4.1->widgetsnbextension~=3.6.8->ipywidgets<8->fastbook==0.0.29) (1.5.1)\n",
      "Requirement already satisfied: isoduration in /home/andre/miniconda3/envs/venv/lib/python3.12/site-packages (from jsonschema[format-nongpl]>=4.18.0->jupyter-events>=0.9.0->jupyter-server<3,>=2.4.0->notebook>=4.4.1->widgetsnbextension~=3.6.8->ipywidgets<8->fastbook==0.0.29) (20.11.0)\n",
      "Requirement already satisfied: jsonpointer>1.13 in /home/andre/miniconda3/envs/venv/lib/python3.12/site-packages (from jsonschema[format-nongpl]>=4.18.0->jupyter-events>=0.9.0->jupyter-server<3,>=2.4.0->notebook>=4.4.1->widgetsnbextension~=3.6.8->ipywidgets<8->fastbook==0.0.29) (3.0.0)\n",
      "Requirement already satisfied: uri-template in /home/andre/miniconda3/envs/venv/lib/python3.12/site-packages (from jsonschema[format-nongpl]>=4.18.0->jupyter-events>=0.9.0->jupyter-server<3,>=2.4.0->notebook>=4.4.1->widgetsnbextension~=3.6.8->ipywidgets<8->fastbook==0.0.29) (1.3.0)\n",
      "Requirement already satisfied: webcolors>=24.6.0 in /home/andre/miniconda3/envs/venv/lib/python3.12/site-packages (from jsonschema[format-nongpl]>=4.18.0->jupyter-events>=0.9.0->jupyter-server<3,>=2.4.0->notebook>=4.4.1->widgetsnbextension~=3.6.8->ipywidgets<8->fastbook==0.0.29) (24.8.0)\n",
      "Requirement already satisfied: cffi>=1.0.1 in /home/andre/miniconda3/envs/venv/lib/python3.12/site-packages (from argon2-cffi-bindings->argon2-cffi>=21.1->jupyter-server<3,>=2.4.0->notebook>=4.4.1->widgetsnbextension~=3.6.8->ipywidgets<8->fastbook==0.0.29) (1.17.0)\n",
      "Requirement already satisfied: soupsieve>1.2 in /home/andre/miniconda3/envs/venv/lib/python3.12/site-packages (from beautifulsoup4->nbconvert>=6.4.4->jupyter-server<3,>=2.4.0->notebook>=4.4.1->widgetsnbextension~=3.6.8->ipywidgets<8->fastbook==0.0.29) (2.5)\n",
      "Requirement already satisfied: pycparser in /home/andre/miniconda3/envs/venv/lib/python3.12/site-packages (from cffi>=1.0.1->argon2-cffi-bindings->argon2-cffi>=21.1->jupyter-server<3,>=2.4.0->notebook>=4.4.1->widgetsnbextension~=3.6.8->ipywidgets<8->fastbook==0.0.29) (2.22)\n",
      "Requirement already satisfied: arrow>=0.15.0 in /home/andre/miniconda3/envs/venv/lib/python3.12/site-packages (from isoduration->jsonschema[format-nongpl]>=4.18.0->jupyter-events>=0.9.0->jupyter-server<3,>=2.4.0->notebook>=4.4.1->widgetsnbextension~=3.6.8->ipywidgets<8->fastbook==0.0.29) (1.3.0)\n",
      "Requirement already satisfied: types-python-dateutil>=2.8.10 in /home/andre/miniconda3/envs/venv/lib/python3.12/site-packages (from arrow>=0.15.0->isoduration->jsonschema[format-nongpl]>=4.18.0->jupyter-events>=0.9.0->jupyter-server<3,>=2.4.0->notebook>=4.4.1->widgetsnbextension~=3.6.8->ipywidgets<8->fastbook==0.0.29) (2.9.0.20240316)\n"
     ]
    }
   ],
   "source": [
    "! pip install matplotlib==3.7.1 matplotlib-inline==0.1.7 matplotlib-venn==0.11.10\n",
    "! pip install numpy==1.26.4\n",
    "! pip install fastai==2.7.16 fastbook==0.0.29"
   ]
  },
  {
   "cell_type": "code",
   "execution_count": 246,
   "id": "960e93af",
   "metadata": {},
   "outputs": [],
   "source": [
    "import fastbook\n",
    "fastbook.setup_book()\n",
    "\n",
    "from fastai.vision.all import *\n",
    "from fastbook import *\n",
    "import tkinter as tk\n",
    "from tkinter import filedialog\n",
    "\n",
    "matplotlib.rc('image', cmap='Greys')"
   ]
  },
  {
   "cell_type": "code",
   "execution_count": 247,
   "id": "d8b6aae2",
   "metadata": {},
   "outputs": [
    {
     "data": {
      "text/plain": [
       "(#2) [Path('/home/andre/.fastai/content/DataML/mnist_png/training'),Path('/home/andre/.fastai/content/DataML/mnist_png/testing')]"
      ]
     },
     "execution_count": 247,
     "metadata": {},
     "output_type": "execute_result"
    }
   ],
   "source": [
    "path = untar_data(URLs.MNIST)\n",
    "path.ls()"
   ]
  },
  {
   "cell_type": "code",
   "execution_count": 248,
   "id": "d303e72f",
   "metadata": {},
   "outputs": [],
   "source": [
    "train_zeros   = (path/\"training/0\").ls().sorted()\n",
    "train_ones    = (path/\"training/1\").ls().sorted()\n",
    "train_twos    = (path/\"training/2\").ls().sorted()\n",
    "train_threes  = (path/\"training/3\").ls().sorted()\n",
    "train_fours   = (path/\"training/4\").ls().sorted()\n",
    "train_fives   = (path/\"training/5\").ls().sorted()\n",
    "train_sixs    = (path/\"training/6\").ls().sorted()\n",
    "train_sevens  = (path/\"training/7\").ls().sorted()\n",
    "train_eights  = (path/\"training/8\").ls().sorted()\n",
    "train_nines   = (path/\"training/9\").ls().sorted()"
   ]
  },
  {
   "cell_type": "markdown",
   "id": "1a01325a",
   "metadata": {},
   "source": [
    "## Baseline Model "
   ]
  },
  {
   "cell_type": "code",
   "execution_count": 249,
   "id": "71ed7180",
   "metadata": {},
   "outputs": [],
   "source": [
    "train_zero_tensors    = [tensor(Image.open(obj)) for obj in train_zeros]\n",
    "train_one_tensors     = [tensor(Image.open(obj)) for obj in train_ones]\n",
    "train_two_tensors     = [tensor(Image.open(obj)) for obj in train_twos]\n",
    "train_three_tensors   = [tensor(Image.open(obj)) for obj in train_threes]\n",
    "train_four_tensors    = [tensor(Image.open(obj)) for obj in train_fours]\n",
    "train_five_tensors    = [tensor(Image.open(obj)) for obj in train_fives]\n",
    "train_six_tensors     = [tensor(Image.open(obj)) for obj in train_sixs]\n",
    "train_seven_tensors   = [tensor(Image.open(obj)) for obj in train_sevens]\n",
    "train_eight_tensors   = [tensor(Image.open(obj)) for obj in train_eights]\n",
    "train_nine_tensors    = [tensor(Image.open(obj)) for obj in train_nines]"
   ]
  },
  {
   "cell_type": "code",
   "execution_count": 250,
   "id": "dc8a5b40",
   "metadata": {},
   "outputs": [
    {
     "name": "stdout",
     "output_type": "stream",
     "text": [
      "Number of zero tensors: 5923\n",
      "torch.Size([28, 28])\n",
      "Number of one tensors: 6742\n",
      "torch.Size([28, 28])\n",
      "Number of two tensors: 5958\n",
      "torch.Size([28, 28])\n",
      "Number of three tensors: 6131\n",
      "torch.Size([28, 28])\n",
      "Number of four tensors: 5842\n",
      "torch.Size([28, 28])\n",
      "Number of five tensors: 5421\n",
      "torch.Size([28, 28])\n",
      "Number of six tensors: 5918\n",
      "torch.Size([28, 28])\n",
      "Number of seven tensors: 6265\n",
      "torch.Size([28, 28])\n",
      "Number of eight tensors: 5851\n",
      "torch.Size([28, 28])\n",
      "Number of nine tensors: 5949\n",
      "torch.Size([28, 28])\n"
     ]
    }
   ],
   "source": [
    "train_digits = [\n",
    "    (\"zero tensors\", train_zero_tensors),\n",
    "    (\"one tensors\", train_one_tensors),\n",
    "    (\"two tensors\", train_two_tensors),\n",
    "    (\"three tensors\", train_three_tensors),\n",
    "    (\"four tensors\", train_four_tensors),\n",
    "    (\"five tensors\", train_five_tensors),\n",
    "    (\"six tensors\", train_six_tensors),\n",
    "    (\"seven tensors\", train_seven_tensors),\n",
    "    (\"eight tensors\", train_eight_tensors),\n",
    "    (\"nine tensors\", train_nine_tensors),\n",
    "]\n",
    "\n",
    "for name, digit in train_digits:\n",
    "    print(f'Number of {name}: {len(digit)}')\n",
    "    print(digit[0].shape)"
   ]
  },
  {
   "cell_type": "code",
   "execution_count": 251,
   "id": "8d74d189",
   "metadata": {},
   "outputs": [
    {
     "data": {
      "image/png": "[encoded data removed]",
      "text/plain": [
       "<Figure size 100x100 with 1 Axes>"
      ]
     },
     "metadata": {},
     "output_type": "display_data"
    },
    {
     "data": {
      "image/png": "[encoded data removed]",
      "text/plain": [
       "<Figure size 100x100 with 1 Axes>"
      ]
     },
     "metadata": {},
     "output_type": "display_data"
    },
    {
     "data": {
      "image/png": "[encoded data removed]",
      "text/plain": [
       "<Figure size 100x100 with 1 Axes>"
      ]
     },
     "metadata": {},
     "output_type": "display_data"
    },
    {
     "data": {
      "image/png": "[encoded data removed]",
      "text/plain": [
       "<Figure size 100x100 with 1 Axes>"
      ]
     },
     "metadata": {},
     "output_type": "display_data"
    },
    {
     "data": {
      "image/png": "[encoded data removed]",
      "text/plain": [
       "<Figure size 100x100 with 1 Axes>"
      ]
     },
     "metadata": {},
     "output_type": "display_data"
    },
    {
     "data": {
      "image/png": "[encoded data removed]",
      "text/plain": [
       "<Figure size 100x100 with 1 Axes>"
      ]
     },
     "metadata": {},
     "output_type": "display_data"
    },
    {
     "data": {
      "image/png": "[encoded data removed]",
      "text/plain": [
       "<Figure size 100x100 with 1 Axes>"
      ]
     },
     "metadata": {},
     "output_type": "display_data"
    },
    {
     "data": {
      "image/png": "[encoded data removed]",
      "text/plain": [
       "<Figure size 100x100 with 1 Axes>"
      ]
     },
     "metadata": {},
     "output_type": "display_data"
    },
    {
     "data": {
      "image/png": "[encoded data removed]",
      "text/plain": [
       "<Figure size 100x100 with 1 Axes>"
      ]
     },
     "metadata": {},
     "output_type": "display_data"
    },
    {
     "data": {
      "image/png": "[encoded data removed]",
      "text/plain": [
       "<Figure size 100x100 with 1 Axes>"
      ]
     },
     "metadata": {},
     "output_type": "display_data"
    }
   ],
   "source": [
    "for _, digit in train_digits:\n",
    "    show_image(digit[1])"
   ]
  },
  {
   "cell_type": "markdown",
   "id": "1249bf59",
   "metadata": {},
   "source": [
    "Stack and Normalize tensors"
   ]
  },
  {
   "cell_type": "code",
   "execution_count": 252,
   "id": "cba38111",
   "metadata": {},
   "outputs": [],
   "source": [
    "train_stacked_zeros   = torch.stack(train_zero_tensors).float() / 255 \n",
    "train_stacked_ones    = torch.stack(train_one_tensors).float() / 255 \n",
    "train_stacked_twos    = torch.stack(train_two_tensors).float() / 255 \n",
    "train_stacked_threes  = torch.stack(train_three_tensors).float() / 255 \n",
    "train_stacked_fours   = torch.stack(train_four_tensors).float() / 255 \n",
    "train_stacked_fives   = torch.stack(train_five_tensors).float() / 255 \n",
    "train_stacked_sixs    = torch.stack(train_six_tensors).float() / 255 \n",
    "train_stacked_sevens  = torch.stack(train_seven_tensors).float() / 255 \n",
    "train_stacked_eights  = torch.stack(train_eight_tensors).float() / 255 \n",
    "train_stacked_nines   = torch.stack(train_nine_tensors).float() / 255 \n"
   ]
  },
  {
   "cell_type": "code",
   "execution_count": 254,
   "id": "64692a27",
   "metadata": {},
   "outputs": [],
   "source": [
    "train_stacked_list = [\n",
    "    train_stacked_zeros,\n",
    "    train_stacked_ones,\n",
    "    train_stacked_twos,\n",
    "    train_stacked_threes,\n",
    "    train_stacked_fours,\n",
    "    train_stacked_fives,\n",
    "    train_stacked_sixs,\n",
    "    train_stacked_sevens,\n",
    "    train_stacked_eights,\n",
    "    train_stacked_nines\n",
    "]"
   ]
  },
  {
   "cell_type": "code",
   "execution_count": 266,
   "id": "1ef9bf4b",
   "metadata": {},
   "outputs": [],
   "source": [
    "mean_list = []\n",
    "for stacked in train_stacked_list:\n",
    "    mean_list.append(stacked.mean(0))\n"
   ]
  },
  {
   "cell_type": "code",
   "execution_count": 256,
   "id": "f78118c9",
   "metadata": {},
   "outputs": [
    {
     "data": {
      "image/png": "[encoded data removed]",
      "text/plain": [
       "<Figure size 100x100 with 1 Axes>"
      ]
     },
     "metadata": {},
     "output_type": "display_data"
    },
    {
     "data": {
      "image/png": "[encoded data removed]",
      "text/plain": [
       "<Figure size 100x100 with 1 Axes>"
      ]
     },
     "metadata": {},
     "output_type": "display_data"
    },
    {
     "data": {
      "image/png": "[encoded data removed]",
      "text/plain": [
       "<Figure size 100x100 with 1 Axes>"
      ]
     },
     "metadata": {},
     "output_type": "display_data"
    },
    {
     "data": {
      "image/png": "[encoded data removed]",
      "text/plain": [
       "<Figure size 100x100 with 1 Axes>"
      ]
     },
     "metadata": {},
     "output_type": "display_data"
    },
    {
     "data": {
      "image/png": "[encoded data removed]",
      "text/plain": [
       "<Figure size 100x100 with 1 Axes>"
      ]
     },
     "metadata": {},
     "output_type": "display_data"
    },
    {
     "data": {
      "image/png": "[encoded data removed]",
      "text/plain": [
       "<Figure size 100x100 with 1 Axes>"
      ]
     },
     "metadata": {},
     "output_type": "display_data"
    },
    {
     "data": {
      "image/png": "[encoded data removed]",
      "text/plain": [
       "<Figure size 100x100 with 1 Axes>"
      ]
     },
     "metadata": {},
     "output_type": "display_data"
    },
    {
     "data": {
      "image/png": "[encoded data removed]",
      "text/plain": [
       "<Figure size 100x100 with 1 Axes>"
      ]
     },
     "metadata": {},
     "output_type": "display_data"
    },
    {
     "data": {
      "image/png": "[encoded data removed]",
      "text/plain": [
       "<Figure size 100x100 with 1 Axes>"
      ]
     },
     "metadata": {},
     "output_type": "display_data"
    },
    {
     "data": {
      "image/png": "[encoded data removed]",
      "text/plain": [
       "<Figure size 100x100 with 1 Axes>"
      ]
     },
     "metadata": {},
     "output_type": "display_data"
    }
   ],
   "source": [
    "for i in mean_list:\n",
    "    show_image(i)"
   ]
  },
  {
   "cell_type": "code",
   "execution_count": 207,
   "id": "18984b18",
   "metadata": {},
   "outputs": [],
   "source": [
    "test_stacked_zeros   = torch.stack([tensor(Image.open(obj)) for obj in (path/\"testing/0\").ls()]).float() / 255 \n",
    "test_stacked_ones    = torch.stack([tensor(Image.open(obj)) for obj in (path/\"testing/1\").ls()]).float() / 255 \n",
    "test_stacked_twos    = torch.stack([tensor(Image.open(obj)) for obj in (path/\"testing/2\").ls()]).float() / 255 \n",
    "test_stacked_threes  = torch.stack([tensor(Image.open(obj)) for obj in (path/\"testing/3\").ls()]).float() / 255 \n",
    "test_stacked_fours   = torch.stack([tensor(Image.open(obj)) for obj in (path/\"testing/4\").ls()]).float() / 255 \n",
    "test_stacked_fives   = torch.stack([tensor(Image.open(obj)) for obj in (path/\"testing/5\").ls()]).float() / 255 \n",
    "test_stacked_sixs    = torch.stack([tensor(Image.open(obj)) for obj in (path/\"testing/6\").ls()]).float() / 255 \n",
    "test_stacked_sevens  = torch.stack([tensor(Image.open(obj)) for obj in (path/\"testing/7\").ls()]).float() / 255 \n",
    "test_stacked_eights  = torch.stack([tensor(Image.open(obj)) for obj in (path/\"testing/8\").ls()]).float() / 255 \n",
    "test_stacked_nines   = torch.stack([tensor(Image.open(obj)) for obj in (path/\"testing/9\").ls()]).float() / 255 "
   ]
  },
  {
   "cell_type": "code",
   "execution_count": 208,
   "id": "099820f2",
   "metadata": {},
   "outputs": [],
   "source": [
    "test_stacked_list = [\n",
    "    test_stacked_zeros,\n",
    "    test_stacked_ones,\n",
    "    test_stacked_twos,\n",
    "    test_stacked_threes,\n",
    "    test_stacked_fours,\n",
    "    test_stacked_fives,\n",
    "    test_stacked_sixs,\n",
    "    test_stacked_sevens,\n",
    "    test_stacked_eights,\n",
    "    test_stacked_nines\n",
    "]"
   ]
  },
  {
   "cell_type": "code",
   "execution_count": 267,
   "id": "6bb6b835",
   "metadata": {},
   "outputs": [],
   "source": [
    "def img_distance(target_tensor, mean_tensor):\n",
    "    # return (target_tensor - mean_tensor).abs().mean((-1, -2))\n",
    "    return ((target_tensor - mean_tensor) ** 2).mean((-1, -2)).sqrt()"
   ]
  },
  {
   "cell_type": "code",
   "execution_count": 210,
   "id": "832a0a1a",
   "metadata": {},
   "outputs": [],
   "source": [
    "def update_rmse_and_value_tensors(min_rmse_tensor, rmse_tensor, value_tensor, value):\n",
    "    if min_rmse_tensor.shape != rmse_tensor.shape or min_rmse_tensor.shape != value_tensor.shape:\n",
    "        raise ValueError(\"All tensors must have the same shape\")\n",
    "\n",
    "    mask = rmse_tensor < min_rmse_tensor\n",
    "    min_rmse_tensor[mask] = rmse_tensor[mask]\n",
    "    value_tensor[mask] = value\n",
    "\n",
    "    return min_rmse_tensor, value_tensor"
   ]
  },
  {
   "cell_type": "code",
   "execution_count": 269,
   "id": "efb1dde0",
   "metadata": {},
   "outputs": [
    {
     "name": "stdout",
     "output_type": "stream",
     "text": [
      "Updated tensor1: tensor([3, 2, 1, 4])\n",
      "Updated tensor3: tensor([1, 0, 1, 0])\n"
     ]
    }
   ],
   "source": [
    "def update_tensors(tensor1, tensor2, tensor3):\n",
    "    if tensor1.shape != tensor2.shape or tensor1.shape != tensor3.shape:\n",
    "        raise ValueError(\"All tensors must have the same shape\")\n",
    "\n",
    "    \n",
    "    mask = tensor2 < tensor1  \n",
    "    tensor1[mask] = tensor2[mask] \n",
    "    tensor3[mask] = 1  \n",
    "\n",
    "    return tensor1, tensor3\n",
    "\n",
    "# Example usage\n",
    "tensor1 = torch.tensor([5, 2, 8, 4])\n",
    "tensor2 = torch.tensor([3, 6, 1, 7])\n",
    "tensor3 = torch.tensor([0, 0, 0, 0])\n",
    "\n",
    "updated_tensor1, updated_tensor3 = update_tensors(tensor1, tensor2, tensor3)\n",
    "\n",
    "print(\"Updated tensor1:\", updated_tensor1)\n",
    "print(\"Updated tensor3:\", updated_tensor3)"
   ]
  },
  {
   "cell_type": "code",
   "execution_count": 271,
   "id": "4d32f252",
   "metadata": {},
   "outputs": [
    {
     "name": "stdout",
     "output_type": "stream",
     "text": [
      "The digit 0 accuracy is: 89.59183502197266%\n",
      "The digit 1 accuracy is: 96.2114486694336%\n",
      "The digit 2 accuracy is: 75.67829132080078%\n",
      "The digit 3 accuracy is: 80.59405517578125%\n",
      "The digit 4 accuracy is: 82.58655548095703%\n",
      "The digit 5 accuracy is: 68.60986328125%\n",
      "The digit 6 accuracy is: 86.32568359375%\n",
      "The digit 7 accuracy is: 83.26847839355469%\n",
      "The digit 8 accuracy is: 73.71663665771484%\n",
      "The digit 9 accuracy is: 80.67393493652344%\n"
     ]
    }
   ],
   "source": [
    "INF = float('inf')\n",
    "digit = 0\n",
    "for test_tensor in test_stacked_list:\n",
    "    tensor_size = len(test_tensor)\n",
    "    min_rmse_tensor = torch.full((tensor_size,), INF)\n",
    "    value_tensor    = torch.full((tensor_size,), digit)\n",
    "    \n",
    "    for index, mean_tensor in enumerate(mean_list):\n",
    "        rmse_tensor = img_distance(test_tensor, mean_tensor)\n",
    "        min_rmse_tensor, value_tensor  = update_rmse_and_value_tensors(min_rmse_tensor, rmse_tensor, value_tensor, index)\n",
    "\n",
    "\n",
    "    binary_tensor = (value_tensor == digit).to(torch.int)\n",
    "    # print(binary_tensor)\n",
    "    accuracy = torch.mean(binary_tensor.to(torch.float32))*100\n",
    "    print(f'The digit {digit} accuracy is: {accuracy}%')\n",
    "    digit += 1\n",
    "\n"
   ]
  },
  {
   "cell_type": "code",
   "execution_count": 280,
   "id": "163fed2d",
   "metadata": {},
   "outputs": [],
   "source": [
    "def predict(input_tensor, mean_list):\n",
    "    distances = [img_distance(input_tensor, mean_tensor) for mean_tensor in mean_list]\n",
    "    return distances.index(min(distances))\n",
    "    "
   ]
  },
  {
   "cell_type": "code",
   "execution_count": 281,
   "id": "6baabeb0",
   "metadata": {},
   "outputs": [
    {
     "name": "stdout",
     "output_type": "stream",
     "text": [
      "Selected file: /home/andre/code/AI/DL/digit_Classification/test/8.png\n"
     ]
    }
   ],
   "source": [
    "def open_file_dialog():\n",
    "    root = tk.Tk()\n",
    "    root.withdraw()\n",
    "    file_path = filedialog.askopenfilename()\n",
    "    print(f\"Selected file: {file_path}\")\n",
    "    return file_path\n",
    "\n",
    "user_file = open_file_dialog()"
   ]
  },
  {
   "cell_type": "code",
   "execution_count": 283,
   "id": "3fc79ff3",
   "metadata": {},
   "outputs": [
    {
     "name": "stdout",
     "output_type": "stream",
     "text": [
      " Predict: 8\n"
     ]
    },
    {
     "data": {
      "image/png": "[encoded data removed]",
      "text/plain": [
       "<Figure size 100x100 with 1 Axes>"
      ]
     },
     "metadata": {},
     "output_type": "display_data"
    }
   ],
   "source": [
    "user_file_tensor = tensor(Image.open(user_file))\n",
    "show_image(user_file_tensor)\n",
    "print(f' Predict: {predict(user_file_tensor, mean_list)}')"
   ]
  },
  {
   "cell_type": "code",
   "execution_count": null,
   "id": "f74633cf",
   "metadata": {},
   "outputs": [],
   "source": []
  }
 ],
 "metadata": {
  "kernelspec": {
   "display_name": "venv",
   "language": "python",
   "name": "python3"
  },
  "language_info": {
   "codemirror_mode": {
    "name": "ipython",
    "version": 3
   },
   "file_extension": ".py",
   "mimetype": "text/x-python",
   "name": "python",
   "nbconvert_exporter": "python",
   "pygments_lexer": "ipython3",
   "version": "3.12.4"
  }
 },
 "nbformat": 4,
 "nbformat_minor": 5
}
