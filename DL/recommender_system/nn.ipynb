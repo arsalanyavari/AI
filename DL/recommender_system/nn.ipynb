{
 "cells": [
  {
   "cell_type": "markdown",
   "id": "29b5381a-72b4-4f81-9208-2075f7acad85",
   "metadata": {},
   "source": [
    "# Recommender System using Neural Network"
   ]
  },
  {
   "cell_type": "markdown",
   "id": "cac03d32",
   "metadata": {},
   "source": [
    "Configure the project. Indeed you create a dataset in csv format."
   ]
  },
  {
   "cell_type": "code",
   "execution_count": 1,
   "id": "6f480cda-8380-4355-998a-5c59d6203b05",
   "metadata": {},
   "outputs": [
    {
     "name": "stdout",
     "output_type": "stream",
     "text": [
      "Archive:  ./dataset/archive.zip\n",
      "  inflating: anime.csv               \n",
      "  inflating: animelist.csv           \n",
      "  inflating: anime_with_synopsis.csv  \n",
      "  inflating: rating_complete.csv     \n"
     ]
    }
   ],
   "source": [
    "! rm -rf *.csv\n",
    "! unzip ./dataset/archive.zip\n"
   ]
  },
  {
   "cell_type": "code",
   "execution_count": 2,
   "id": "db1f7e48",
   "metadata": {},
   "outputs": [
    {
     "name": "stdout",
     "output_type": "stream",
     "text": [
      "total 53M\n",
      "drwxr-xr-x 6 andre andre 4.0K Sep 14 12:48 ..\n",
      "-rw-r--r-- 1 andre andre  40M Sep 27 12:26 rating.csv\n",
      "-rw-r--r-- 1 andre andre 6.9M Sep 27 12:26 anime_with_synopsis.csv\n",
      "-rw-r--r-- 1 andre andre 5.5M Sep 27 12:26 anime.csv\n",
      "-rw-r--r-- 1 andre andre   31 Sep 27 14:09 .gitignore\n",
      "-rw-r--r-- 1 andre andre 195K Sep 27 14:30 best_model.pth\n",
      "drwxr-xr-x 2 andre andre 4.0K Sep 27 14:37 .\n",
      "-rw-r--r-- 1 andre andre 160K Sep 27 14:37 nn.ipynb\n"
     ]
    }
   ],
   "source": [
    "! ls -ltrha"
   ]
  },
  {
   "cell_type": "markdown",
   "id": "52ec2f48",
   "metadata": {},
   "source": [
    "Import needed libraries"
   ]
  },
  {
   "cell_type": "code",
   "execution_count": 3,
   "id": "dd17f780",
   "metadata": {},
   "outputs": [],
   "source": [
    "import torch\n",
    "import torch.nn as nn\n",
    "import torch.optim as optim\n",
    "import pandas as pd\n",
    "import numpy as np\n",
    "from sklearn.preprocessing import StandardScaler\n",
    "from sklearn.model_selection import train_test_split\n",
    "from torch.utils.data import TensorDataset, DataLoader\n",
    "import matplotlib.pyplot as plt\n",
    "from tqdm import tqdm\n",
    "\n",
    "%matplotlib inline"
   ]
  },
  {
   "cell_type": "code",
   "execution_count": 4,
   "id": "aec5c99e",
   "metadata": {},
   "outputs": [
    {
     "name": "stdout",
     "output_type": "stream",
     "text": [
      "Using device: cuda\n"
     ]
    }
   ],
   "source": [
    "device = torch.device(\"cuda\" if torch.cuda.is_available() else \"cpu\")\n",
    "print(f'Using device: {device}')"
   ]
  },
  {
   "cell_type": "markdown",
   "id": "57b33a77",
   "metadata": {},
   "source": [
    "Read data from csv files using pandas and store in data frame structure. Also shuffle data to have uniform distribution. "
   ]
  },
  {
   "cell_type": "code",
   "execution_count": 5,
   "id": "a102a751",
   "metadata": {},
   "outputs": [],
   "source": [
    "anime_df = pd.read_csv(\"anime.csv\")\n",
    "anime_df = anime_df.sample(frac=1.0, random_state=42).reset_index(drop=True)\n",
    "\n",
    "anime_synopsis_df = pd.read_csv(\"anime_with_synopsis.csv\")\n",
    "anime_synopsis_df = anime_synopsis_df.sample(frac=1.0, random_state=42).reset_index(drop=True)\n"
   ]
  },
  {
   "cell_type": "code",
   "execution_count": 6,
   "id": "639afef8",
   "metadata": {},
   "outputs": [
    {
     "data": {
      "text/html": [
       "<div>\n",
       "<style scoped>\n",
       "    .dataframe tbody tr th:only-of-type {\n",
       "        vertical-align: middle;\n",
       "    }\n",
       "\n",
       "    .dataframe tbody tr th {\n",
       "        vertical-align: top;\n",
       "    }\n",
       "\n",
       "    .dataframe thead th {\n",
       "        text-align: right;\n",
       "    }\n",
       "</style>\n",
       "<table border=\"1\" class=\"dataframe\">\n",
       "  <thead>\n",
       "    <tr style=\"text-align: right;\">\n",
       "      <th></th>\n",
       "      <th>MAL_ID</th>\n",
       "      <th>Name</th>\n",
       "      <th>Score</th>\n",
       "      <th>Genres</th>\n",
       "      <th>English name</th>\n",
       "      <th>Japanese name</th>\n",
       "      <th>Type</th>\n",
       "      <th>Episodes</th>\n",
       "      <th>Aired</th>\n",
       "      <th>Premiered</th>\n",
       "      <th>...</th>\n",
       "      <th>Score-10</th>\n",
       "      <th>Score-9</th>\n",
       "      <th>Score-8</th>\n",
       "      <th>Score-7</th>\n",
       "      <th>Score-6</th>\n",
       "      <th>Score-5</th>\n",
       "      <th>Score-4</th>\n",
       "      <th>Score-3</th>\n",
       "      <th>Score-2</th>\n",
       "      <th>Score-1</th>\n",
       "    </tr>\n",
       "  </thead>\n",
       "  <tbody>\n",
       "    <tr>\n",
       "      <th>0</th>\n",
       "      <td>40176</td>\n",
       "      <td>Miru Tights: Cosplay Satsuei Tights</td>\n",
       "      <td>6.53</td>\n",
       "      <td>Ecchi, School</td>\n",
       "      <td>Unknown</td>\n",
       "      <td>みるタイツ コスプレ撮影 タイツ</td>\n",
       "      <td>Special</td>\n",
       "      <td>1</td>\n",
       "      <td>Aug 23, 2019</td>\n",
       "      <td>Unknown</td>\n",
       "      <td>...</td>\n",
       "      <td>875.0</td>\n",
       "      <td>350.0</td>\n",
       "      <td>762.0</td>\n",
       "      <td>1526.0</td>\n",
       "      <td>1542.0</td>\n",
       "      <td>924.0</td>\n",
       "      <td>384.0</td>\n",
       "      <td>245.0</td>\n",
       "      <td>162.0</td>\n",
       "      <td>148.0</td>\n",
       "    </tr>\n",
       "    <tr>\n",
       "      <th>1</th>\n",
       "      <td>13969</td>\n",
       "      <td>Thermae Romae x Yoyogi Animation Gakuin Collab...</td>\n",
       "      <td>6.29</td>\n",
       "      <td>Comedy, Historical, Seinen</td>\n",
       "      <td>Unknown</td>\n",
       "      <td>テルマエ・ロマエｘ代々木アニメーション学院企業コラボレーション</td>\n",
       "      <td>Special</td>\n",
       "      <td>1</td>\n",
       "      <td>Jul 9, 2012</td>\n",
       "      <td>Unknown</td>\n",
       "      <td>...</td>\n",
       "      <td>35.0</td>\n",
       "      <td>47.0</td>\n",
       "      <td>114.0</td>\n",
       "      <td>253.0</td>\n",
       "      <td>240.0</td>\n",
       "      <td>162.0</td>\n",
       "      <td>63.0</td>\n",
       "      <td>29.0</td>\n",
       "      <td>10.0</td>\n",
       "      <td>10.0</td>\n",
       "    </tr>\n",
       "    <tr>\n",
       "      <th>2</th>\n",
       "      <td>13459</td>\n",
       "      <td>Ribbon-chan</td>\n",
       "      <td>Unknown</td>\n",
       "      <td>Comedy</td>\n",
       "      <td>Unknown</td>\n",
       "      <td>リボンちゃん</td>\n",
       "      <td>TV</td>\n",
       "      <td>24</td>\n",
       "      <td>Apr 4, 2012 to Mar 27, 2013</td>\n",
       "      <td>Spring 2012</td>\n",
       "      <td>...</td>\n",
       "      <td>7.0</td>\n",
       "      <td>Unknown</td>\n",
       "      <td>Unknown</td>\n",
       "      <td>2.0</td>\n",
       "      <td>2.0</td>\n",
       "      <td>4.0</td>\n",
       "      <td>1.0</td>\n",
       "      <td>Unknown</td>\n",
       "      <td>2.0</td>\n",
       "      <td>7.0</td>\n",
       "    </tr>\n",
       "    <tr>\n",
       "      <th>3</th>\n",
       "      <td>15617</td>\n",
       "      <td>Jinrui wa Suitai Shimashita Specials</td>\n",
       "      <td>7.23</td>\n",
       "      <td>Comedy, Fantasy, Seinen</td>\n",
       "      <td>Humanity Has Declined Specials</td>\n",
       "      <td>人類は衰退しました</td>\n",
       "      <td>Special</td>\n",
       "      <td>6</td>\n",
       "      <td>Sep 19, 2012 to Feb 20, 2013</td>\n",
       "      <td>Unknown</td>\n",
       "      <td>...</td>\n",
       "      <td>451.0</td>\n",
       "      <td>885.0</td>\n",
       "      <td>2432.0</td>\n",
       "      <td>3038.0</td>\n",
       "      <td>1388.0</td>\n",
       "      <td>588.0</td>\n",
       "      <td>130.0</td>\n",
       "      <td>38.0</td>\n",
       "      <td>22.0</td>\n",
       "      <td>19.0</td>\n",
       "    </tr>\n",
       "    <tr>\n",
       "      <th>4</th>\n",
       "      <td>19157</td>\n",
       "      <td>Youkai Watch</td>\n",
       "      <td>6.54</td>\n",
       "      <td>Comedy, Demons, Kids, Supernatural</td>\n",
       "      <td>Yo-kai Watch</td>\n",
       "      <td>妖怪ウォッチ</td>\n",
       "      <td>TV</td>\n",
       "      <td>214</td>\n",
       "      <td>Jan 8, 2014 to Mar 30, 2018</td>\n",
       "      <td>Winter 2014</td>\n",
       "      <td>...</td>\n",
       "      <td>517.0</td>\n",
       "      <td>532.0</td>\n",
       "      <td>1141.0</td>\n",
       "      <td>1912.0</td>\n",
       "      <td>1636.0</td>\n",
       "      <td>1196.0</td>\n",
       "      <td>500.0</td>\n",
       "      <td>228.0</td>\n",
       "      <td>138.0</td>\n",
       "      <td>125.0</td>\n",
       "    </tr>\n",
       "    <tr>\n",
       "      <th>...</th>\n",
       "      <td>...</td>\n",
       "      <td>...</td>\n",
       "      <td>...</td>\n",
       "      <td>...</td>\n",
       "      <td>...</td>\n",
       "      <td>...</td>\n",
       "      <td>...</td>\n",
       "      <td>...</td>\n",
       "      <td>...</td>\n",
       "      <td>...</td>\n",
       "      <td>...</td>\n",
       "      <td>...</td>\n",
       "      <td>...</td>\n",
       "      <td>...</td>\n",
       "      <td>...</td>\n",
       "      <td>...</td>\n",
       "      <td>...</td>\n",
       "      <td>...</td>\n",
       "      <td>...</td>\n",
       "      <td>...</td>\n",
       "      <td>...</td>\n",
       "    </tr>\n",
       "    <tr>\n",
       "      <th>17557</th>\n",
       "      <td>32238</td>\n",
       "      <td>Watashi wa, Kairaku Izonshou</td>\n",
       "      <td>6.2</td>\n",
       "      <td>Hentai</td>\n",
       "      <td>Unknown</td>\n",
       "      <td>私は、快楽依存症</td>\n",
       "      <td>OVA</td>\n",
       "      <td>2</td>\n",
       "      <td>Feb 26, 2016 to May 20, 2016</td>\n",
       "      <td>Unknown</td>\n",
       "      <td>...</td>\n",
       "      <td>117.0</td>\n",
       "      <td>96.0</td>\n",
       "      <td>197.0</td>\n",
       "      <td>329.0</td>\n",
       "      <td>363.0</td>\n",
       "      <td>216.0</td>\n",
       "      <td>110.0</td>\n",
       "      <td>49.0</td>\n",
       "      <td>52.0</td>\n",
       "      <td>52.0</td>\n",
       "    </tr>\n",
       "    <tr>\n",
       "      <th>17558</th>\n",
       "      <td>33552</td>\n",
       "      <td>Mameshiba Bangai-hen</td>\n",
       "      <td>5.75</td>\n",
       "      <td>Music, Comedy</td>\n",
       "      <td>Unknown</td>\n",
       "      <td>豆しば番外編</td>\n",
       "      <td>Special</td>\n",
       "      <td>5</td>\n",
       "      <td>2008 to Jun 20, 2019</td>\n",
       "      <td>Unknown</td>\n",
       "      <td>...</td>\n",
       "      <td>8.0</td>\n",
       "      <td>2.0</td>\n",
       "      <td>6.0</td>\n",
       "      <td>8.0</td>\n",
       "      <td>24.0</td>\n",
       "      <td>47.0</td>\n",
       "      <td>11.0</td>\n",
       "      <td>6.0</td>\n",
       "      <td>2.0</td>\n",
       "      <td>12.0</td>\n",
       "    </tr>\n",
       "    <tr>\n",
       "      <th>17559</th>\n",
       "      <td>8476</td>\n",
       "      <td>Otome Youkai Zakuro</td>\n",
       "      <td>7.47</td>\n",
       "      <td>Demons, Historical, Military, Romance, Seinen,...</td>\n",
       "      <td>Zakuro</td>\n",
       "      <td>おとめ妖怪 ざくろ</td>\n",
       "      <td>TV</td>\n",
       "      <td>13</td>\n",
       "      <td>Oct 5, 2010 to Dec 28, 2010</td>\n",
       "      <td>Fall 2010</td>\n",
       "      <td>...</td>\n",
       "      <td>3237.0</td>\n",
       "      <td>5815.0</td>\n",
       "      <td>12079.0</td>\n",
       "      <td>12757.0</td>\n",
       "      <td>5674.0</td>\n",
       "      <td>2383.0</td>\n",
       "      <td>688.0</td>\n",
       "      <td>234.0</td>\n",
       "      <td>99.0</td>\n",
       "      <td>81.0</td>\n",
       "    </tr>\n",
       "    <tr>\n",
       "      <th>17560</th>\n",
       "      <td>953</td>\n",
       "      <td>Jyu Oh Sei</td>\n",
       "      <td>7.26</td>\n",
       "      <td>Action, Sci-Fi, Adventure, Mystery, Drama, Shoujo</td>\n",
       "      <td>Jyu-Oh-Sei:Planet of the Beast King</td>\n",
       "      <td>獣王星</td>\n",
       "      <td>TV</td>\n",
       "      <td>11</td>\n",
       "      <td>Apr 14, 2006 to Jun 23, 2006</td>\n",
       "      <td>Spring 2006</td>\n",
       "      <td>...</td>\n",
       "      <td>2193.0</td>\n",
       "      <td>3886.0</td>\n",
       "      <td>7188.0</td>\n",
       "      <td>8062.0</td>\n",
       "      <td>4360.0</td>\n",
       "      <td>2140.0</td>\n",
       "      <td>934.0</td>\n",
       "      <td>302.0</td>\n",
       "      <td>172.0</td>\n",
       "      <td>148.0</td>\n",
       "    </tr>\n",
       "    <tr>\n",
       "      <th>17561</th>\n",
       "      <td>39769</td>\n",
       "      <td>Kimi ni Sekai</td>\n",
       "      <td>6.7</td>\n",
       "      <td>Sci-Fi, Music, Fantasy</td>\n",
       "      <td>Unknown</td>\n",
       "      <td>君に世界</td>\n",
       "      <td>Music</td>\n",
       "      <td>1</td>\n",
       "      <td>Apr 20, 2019</td>\n",
       "      <td>Unknown</td>\n",
       "      <td>...</td>\n",
       "      <td>48.0</td>\n",
       "      <td>42.0</td>\n",
       "      <td>72.0</td>\n",
       "      <td>181.0</td>\n",
       "      <td>134.0</td>\n",
       "      <td>64.0</td>\n",
       "      <td>17.0</td>\n",
       "      <td>13.0</td>\n",
       "      <td>7.0</td>\n",
       "      <td>4.0</td>\n",
       "    </tr>\n",
       "  </tbody>\n",
       "</table>\n",
       "<p>17562 rows × 35 columns</p>\n",
       "</div>"
      ],
      "text/plain": [
       "       MAL_ID                                               Name    Score  \\\n",
       "0       40176                Miru Tights: Cosplay Satsuei Tights     6.53   \n",
       "1       13969  Thermae Romae x Yoyogi Animation Gakuin Collab...     6.29   \n",
       "2       13459                                        Ribbon-chan  Unknown   \n",
       "3       15617               Jinrui wa Suitai Shimashita Specials     7.23   \n",
       "4       19157                                       Youkai Watch     6.54   \n",
       "...       ...                                                ...      ...   \n",
       "17557   32238                       Watashi wa, Kairaku Izonshou      6.2   \n",
       "17558   33552                               Mameshiba Bangai-hen     5.75   \n",
       "17559    8476                                Otome Youkai Zakuro     7.47   \n",
       "17560     953                                         Jyu Oh Sei     7.26   \n",
       "17561   39769                                      Kimi ni Sekai      6.7   \n",
       "\n",
       "                                                  Genres  \\\n",
       "0                                          Ecchi, School   \n",
       "1                             Comedy, Historical, Seinen   \n",
       "2                                                 Comedy   \n",
       "3                                Comedy, Fantasy, Seinen   \n",
       "4                     Comedy, Demons, Kids, Supernatural   \n",
       "...                                                  ...   \n",
       "17557                                             Hentai   \n",
       "17558                                      Music, Comedy   \n",
       "17559  Demons, Historical, Military, Romance, Seinen,...   \n",
       "17560  Action, Sci-Fi, Adventure, Mystery, Drama, Shoujo   \n",
       "17561                             Sci-Fi, Music, Fantasy   \n",
       "\n",
       "                              English name                    Japanese name  \\\n",
       "0                                  Unknown                 みるタイツ コスプレ撮影 タイツ   \n",
       "1                                  Unknown  テルマエ・ロマエｘ代々木アニメーション学院企業コラボレーション   \n",
       "2                                  Unknown                           リボンちゃん   \n",
       "3           Humanity Has Declined Specials                        人類は衰退しました   \n",
       "4                             Yo-kai Watch                           妖怪ウォッチ   \n",
       "...                                    ...                              ...   \n",
       "17557                              Unknown                         私は、快楽依存症   \n",
       "17558                              Unknown                           豆しば番外編   \n",
       "17559                               Zakuro                        おとめ妖怪 ざくろ   \n",
       "17560  Jyu-Oh-Sei:Planet of the Beast King                              獣王星   \n",
       "17561                              Unknown                             君に世界   \n",
       "\n",
       "          Type Episodes                         Aired    Premiered  ...  \\\n",
       "0      Special        1                  Aug 23, 2019      Unknown  ...   \n",
       "1      Special        1                   Jul 9, 2012      Unknown  ...   \n",
       "2           TV       24   Apr 4, 2012 to Mar 27, 2013  Spring 2012  ...   \n",
       "3      Special        6  Sep 19, 2012 to Feb 20, 2013      Unknown  ...   \n",
       "4           TV      214   Jan 8, 2014 to Mar 30, 2018  Winter 2014  ...   \n",
       "...        ...      ...                           ...          ...  ...   \n",
       "17557      OVA        2  Feb 26, 2016 to May 20, 2016      Unknown  ...   \n",
       "17558  Special        5          2008 to Jun 20, 2019      Unknown  ...   \n",
       "17559       TV       13   Oct 5, 2010 to Dec 28, 2010    Fall 2010  ...   \n",
       "17560       TV       11  Apr 14, 2006 to Jun 23, 2006  Spring 2006  ...   \n",
       "17561    Music        1                  Apr 20, 2019      Unknown  ...   \n",
       "\n",
       "      Score-10  Score-9  Score-8  Score-7 Score-6 Score-5 Score-4  Score-3  \\\n",
       "0        875.0    350.0    762.0   1526.0  1542.0   924.0   384.0    245.0   \n",
       "1         35.0     47.0    114.0    253.0   240.0   162.0    63.0     29.0   \n",
       "2          7.0  Unknown  Unknown      2.0     2.0     4.0     1.0  Unknown   \n",
       "3        451.0    885.0   2432.0   3038.0  1388.0   588.0   130.0     38.0   \n",
       "4        517.0    532.0   1141.0   1912.0  1636.0  1196.0   500.0    228.0   \n",
       "...        ...      ...      ...      ...     ...     ...     ...      ...   \n",
       "17557    117.0     96.0    197.0    329.0   363.0   216.0   110.0     49.0   \n",
       "17558      8.0      2.0      6.0      8.0    24.0    47.0    11.0      6.0   \n",
       "17559   3237.0   5815.0  12079.0  12757.0  5674.0  2383.0   688.0    234.0   \n",
       "17560   2193.0   3886.0   7188.0   8062.0  4360.0  2140.0   934.0    302.0   \n",
       "17561     48.0     42.0     72.0    181.0   134.0    64.0    17.0     13.0   \n",
       "\n",
       "       Score-2  Score-1  \n",
       "0        162.0    148.0  \n",
       "1         10.0     10.0  \n",
       "2          2.0      7.0  \n",
       "3         22.0     19.0  \n",
       "4        138.0    125.0  \n",
       "...        ...      ...  \n",
       "17557     52.0     52.0  \n",
       "17558      2.0     12.0  \n",
       "17559     99.0     81.0  \n",
       "17560    172.0    148.0  \n",
       "17561      7.0      4.0  \n",
       "\n",
       "[17562 rows x 35 columns]"
      ]
     },
     "execution_count": 6,
     "metadata": {},
     "output_type": "execute_result"
    }
   ],
   "source": [
    "anime_df"
   ]
  },
  {
   "cell_type": "code",
   "execution_count": 7,
   "id": "ac373668",
   "metadata": {},
   "outputs": [
    {
     "data": {
      "text/html": [
       "<div>\n",
       "<style scoped>\n",
       "    .dataframe tbody tr th:only-of-type {\n",
       "        vertical-align: middle;\n",
       "    }\n",
       "\n",
       "    .dataframe tbody tr th {\n",
       "        vertical-align: top;\n",
       "    }\n",
       "\n",
       "    .dataframe thead th {\n",
       "        text-align: right;\n",
       "    }\n",
       "</style>\n",
       "<table border=\"1\" class=\"dataframe\">\n",
       "  <thead>\n",
       "    <tr style=\"text-align: right;\">\n",
       "      <th></th>\n",
       "      <th>MAL_ID</th>\n",
       "      <th>Name</th>\n",
       "      <th>Score</th>\n",
       "      <th>Genres</th>\n",
       "      <th>sypnopsis</th>\n",
       "    </tr>\n",
       "  </thead>\n",
       "  <tbody>\n",
       "    <tr>\n",
       "      <th>0</th>\n",
       "      <td>1220</td>\n",
       "      <td>Hoshizora Kiseki</td>\n",
       "      <td>5.8</td>\n",
       "      <td>Romance, Sci-Fi</td>\n",
       "      <td>Kozue is a girl who loves astronomy, particula...</td>\n",
       "    </tr>\n",
       "    <tr>\n",
       "      <th>1</th>\n",
       "      <td>38407</td>\n",
       "      <td>Ishii Hiroyuki x Saitou Souma Essay-shuu</td>\n",
       "      <td>Unknown</td>\n",
       "      <td>Space</td>\n",
       "      <td>advertisement for a photo and essay collection...</td>\n",
       "    </tr>\n",
       "    <tr>\n",
       "      <th>2</th>\n",
       "      <td>2705</td>\n",
       "      <td>Bakusou Kyoudai Let's &amp; Go</td>\n",
       "      <td>6.78</td>\n",
       "      <td>Adventure, Cars, Sports, Shounen</td>\n",
       "      <td>Based on the manga by Tetsuhiro Koshita, Bakus...</td>\n",
       "    </tr>\n",
       "    <tr>\n",
       "      <th>3</th>\n",
       "      <td>18829</td>\n",
       "      <td>Hello Kitty no Shiawase no Aoi Hotaru</td>\n",
       "      <td>Unknown</td>\n",
       "      <td>Kids</td>\n",
       "      <td>p to camping with Kitty and her class.</td>\n",
       "    </tr>\n",
       "    <tr>\n",
       "      <th>4</th>\n",
       "      <td>9014</td>\n",
       "      <td>Kuttsukiboshi</td>\n",
       "      <td>6.12</td>\n",
       "      <td>Romance, Supernatural, Drama, Shoujo Ai</td>\n",
       "      <td>To Kiiko Kawakami, there was nothing in the wo...</td>\n",
       "    </tr>\n",
       "    <tr>\n",
       "      <th>...</th>\n",
       "      <td>...</td>\n",
       "      <td>...</td>\n",
       "      <td>...</td>\n",
       "      <td>...</td>\n",
       "      <td>...</td>\n",
       "    </tr>\n",
       "    <tr>\n",
       "      <th>16209</th>\n",
       "      <td>38009</td>\n",
       "      <td>Re:Stage! Dream Days♪</td>\n",
       "      <td>6.69</td>\n",
       "      <td>Music, School, Slice of Life</td>\n",
       "      <td>ana Shikimiya has just transferred into Mareho...</td>\n",
       "    </tr>\n",
       "    <tr>\n",
       "      <th>16210</th>\n",
       "      <td>10348</td>\n",
       "      <td>Fireball Charming</td>\n",
       "      <td>6.8</td>\n",
       "      <td>Sci-Fi</td>\n",
       "      <td>3D computer animation about a female robot duc...</td>\n",
       "    </tr>\n",
       "    <tr>\n",
       "      <th>16211</th>\n",
       "      <td>979</td>\n",
       "      <td>Street Fighter Zero The Animation</td>\n",
       "      <td>6.55</td>\n",
       "      <td>Action, Drama, Martial Arts, Shounen, Super Power</td>\n",
       "      <td>u, the current Street Fighter champion, must o...</td>\n",
       "    </tr>\n",
       "    <tr>\n",
       "      <th>16212</th>\n",
       "      <td>42826</td>\n",
       "      <td>Seijo no Maryoku wa Bannou Desu</td>\n",
       "      <td>Unknown</td>\n",
       "      <td>Romance, Fantasy</td>\n",
       "      <td>Sei, a 20-year-old office worker, is whisked a...</td>\n",
       "    </tr>\n",
       "    <tr>\n",
       "      <th>16213</th>\n",
       "      <td>20047</td>\n",
       "      <td>Sakura Trick</td>\n",
       "      <td>7.02</td>\n",
       "      <td>Slice of Life, Comedy, Romance, School, Seinen...</td>\n",
       "      <td>Having been best friends since middle school, ...</td>\n",
       "    </tr>\n",
       "  </tbody>\n",
       "</table>\n",
       "<p>16214 rows × 5 columns</p>\n",
       "</div>"
      ],
      "text/plain": [
       "       MAL_ID                                      Name    Score  \\\n",
       "0        1220                          Hoshizora Kiseki      5.8   \n",
       "1       38407  Ishii Hiroyuki x Saitou Souma Essay-shuu  Unknown   \n",
       "2        2705                Bakusou Kyoudai Let's & Go     6.78   \n",
       "3       18829     Hello Kitty no Shiawase no Aoi Hotaru  Unknown   \n",
       "4        9014                             Kuttsukiboshi     6.12   \n",
       "...       ...                                       ...      ...   \n",
       "16209   38009                     Re:Stage! Dream Days♪     6.69   \n",
       "16210   10348                         Fireball Charming      6.8   \n",
       "16211     979         Street Fighter Zero The Animation     6.55   \n",
       "16212   42826           Seijo no Maryoku wa Bannou Desu  Unknown   \n",
       "16213   20047                              Sakura Trick     7.02   \n",
       "\n",
       "                                                  Genres  \\\n",
       "0                                        Romance, Sci-Fi   \n",
       "1                                                  Space   \n",
       "2                       Adventure, Cars, Sports, Shounen   \n",
       "3                                                   Kids   \n",
       "4                Romance, Supernatural, Drama, Shoujo Ai   \n",
       "...                                                  ...   \n",
       "16209                       Music, School, Slice of Life   \n",
       "16210                                             Sci-Fi   \n",
       "16211  Action, Drama, Martial Arts, Shounen, Super Power   \n",
       "16212                                   Romance, Fantasy   \n",
       "16213  Slice of Life, Comedy, Romance, School, Seinen...   \n",
       "\n",
       "                                               sypnopsis  \n",
       "0      Kozue is a girl who loves astronomy, particula...  \n",
       "1      advertisement for a photo and essay collection...  \n",
       "2      Based on the manga by Tetsuhiro Koshita, Bakus...  \n",
       "3                 p to camping with Kitty and her class.  \n",
       "4      To Kiiko Kawakami, there was nothing in the wo...  \n",
       "...                                                  ...  \n",
       "16209  ana Shikimiya has just transferred into Mareho...  \n",
       "16210  3D computer animation about a female robot duc...  \n",
       "16211  u, the current Street Fighter champion, must o...  \n",
       "16212  Sei, a 20-year-old office worker, is whisked a...  \n",
       "16213  Having been best friends since middle school, ...  \n",
       "\n",
       "[16214 rows x 5 columns]"
      ]
     },
     "execution_count": 7,
     "metadata": {},
     "output_type": "execute_result"
    }
   ],
   "source": [
    "anime_synopsis_df"
   ]
  },
  {
   "cell_type": "markdown",
   "id": "75a968d7",
   "metadata": {},
   "source": [
    "Define the neural network"
   ]
  },
  {
   "cell_type": "code",
   "execution_count": 8,
   "id": "ba2cb244",
   "metadata": {},
   "outputs": [],
   "source": [
    "class AnimeRecommendationNN(nn.Module):\n",
    "    def __init__(self, input_size):\n",
    "        super(AnimeRecommendationNN, self).__init__()\n",
    "        self.fc1 = nn.Linear(input_size, 256)\n",
    "        self.fc2 = nn.Linear(256, 128)\n",
    "        self.fc3 = nn.Linear(128, 64)\n",
    "        self.fc4 = nn.Linear(64, 32)\n",
    "        self.fc5 = nn.Linear(32, 1)\n",
    "        self.relu = nn.LeakyReLU(negative_slope=0.01)\n",
    "        self.dropout = nn.Dropout(0.3)\n",
    "        self.batch_norm1 = nn.BatchNorm1d(256)\n",
    "        self.batch_norm2 = nn.BatchNorm1d(128)\n",
    "        self.batch_norm3 = nn.BatchNorm1d(64)\n",
    "        self.batch_norm4 = nn.BatchNorm1d(32)\n",
    "\n",
    "    def forward(self, x):\n",
    "        x = self.dropout(self.relu(self.batch_norm1(self.fc1(x))))\n",
    "        x = self.dropout(self.relu(self.batch_norm2(self.fc2(x))))\n",
    "        x = self.dropout(self.relu(self.batch_norm3(self.fc3(x))))\n",
    "        x = self.dropout(self.relu(self.batch_norm4(self.fc4(x))))\n",
    "        x = self.fc5(x)\n",
    "        return x"
   ]
  },
  {
   "cell_type": "markdown",
   "id": "90f1197e",
   "metadata": {},
   "source": [
    "Feature engineering"
   ]
  },
  {
   "cell_type": "code",
   "execution_count": 9,
   "id": "45c355f5",
   "metadata": {},
   "outputs": [],
   "source": [
    "def clean_numeric_column(series):\n",
    "    series = series.astype(str)\n",
    "    series = series.replace(['Unknown', ''], np.nan)\n",
    "    series = pd.to_numeric(series, errors='coerce')\n",
    "    return series"
   ]
  },
  {
   "cell_type": "code",
   "execution_count": 10,
   "id": "28654be7",
   "metadata": {},
   "outputs": [],
   "source": [
    "def engineer_features(df):\n",
    "    df = df.copy()\n",
    "    \n",
    "    df['genre_count'] = df['Genres'].str.count(',') + 1\n",
    "    df['synopsis_length'] = df['sypnopsis'].str.len().fillna(0)\n",
    "    \n",
    "    numeric_columns = ['Score', 'Episodes', 'Members', 'Popularity', 'Ranked']\n",
    "    \n",
    "    for col in numeric_columns:\n",
    "        df[col] = clean_numeric_column(df[col])\n",
    "        # Fill NaN with median without using inplace\n",
    "        median_value = df[col].median()\n",
    "        df[col] = df[col].fillna(median_value)\n",
    "    \n",
    "    return df[['MAL_ID', 'Score', 'Episodes', 'Members', 'Popularity', 'Ranked', 'genre_count', 'synopsis_length']]\n"
   ]
  },
  {
   "cell_type": "code",
   "execution_count": 11,
   "id": "65ee1094",
   "metadata": {},
   "outputs": [],
   "source": [
    "anime_features = engineer_features(pd.merge(anime_df, anime_synopsis_df[['MAL_ID', 'sypnopsis']], on='MAL_ID', how='left'))"
   ]
  },
  {
   "cell_type": "code",
   "execution_count": 12,
   "id": "a35cb269",
   "metadata": {},
   "outputs": [],
   "source": [
    "non_numeric_check = anime_features.drop('MAL_ID', axis=1).select_dtypes(exclude=[np.number])\n",
    "if not non_numeric_check.empty:\n",
    "    print(\"Warning: Non-numeric data found in columns:\", non_numeric_check.columns)\n",
    "    print(\"Sample of non-numeric data:\")\n",
    "    print(non_numeric_check.head())\n",
    "    raise ValueError(\"Please check your data preprocessing steps.\")"
   ]
  },
  {
   "cell_type": "markdown",
   "id": "56cc96a6",
   "metadata": {},
   "source": [
    "Normalize features"
   ]
  },
  {
   "cell_type": "code",
   "execution_count": 13,
   "id": "0072397d",
   "metadata": {},
   "outputs": [],
   "source": [
    "scaler = StandardScaler()\n",
    "anime_features_scaled = scaler.fit_transform(anime_features.drop('MAL_ID', axis=1))"
   ]
  },
  {
   "cell_type": "code",
   "execution_count": 14,
   "id": "c8a66545",
   "metadata": {},
   "outputs": [],
   "source": [
    "X = anime_features_scaled\n",
    "y = anime_features['Score'].values"
   ]
  },
  {
   "cell_type": "code",
   "execution_count": 15,
   "id": "9cc83cb0",
   "metadata": {},
   "outputs": [],
   "source": [
    "X_train, X_val, y_train, y_val = train_test_split(X, y, test_size=0.2, random_state=42)"
   ]
  },
  {
   "cell_type": "code",
   "execution_count": 16,
   "id": "0fdea965",
   "metadata": {},
   "outputs": [],
   "source": [
    "train_dataset = TensorDataset(torch.FloatTensor(X_train), torch.FloatTensor(y_train))\n",
    "val_dataset = TensorDataset(torch.FloatTensor(X_val), torch.FloatTensor(y_val))\n",
    "\n",
    "batch_size = 512\n",
    "train_loader = DataLoader(train_dataset, batch_size=batch_size, shuffle=True)\n",
    "val_loader = DataLoader(val_dataset, batch_size=batch_size, shuffle=False)"
   ]
  },
  {
   "cell_type": "markdown",
   "id": "f6e2b4c3",
   "metadata": {},
   "source": [
    "Training"
   ]
  },
  {
   "cell_type": "code",
   "execution_count": 17,
   "id": "bc6fad2c",
   "metadata": {},
   "outputs": [],
   "source": [
    "input_size = X_train.shape[1]\n",
    "model = AnimeRecommendationNN(input_size).to(device)\n",
    "optimizer = optim.Adam(model.parameters(), lr=0.001, weight_decay=1e-5)\n",
    "scheduler = optim.lr_scheduler.ReduceLROnPlateau(optimizer, 'min', patience=5, factor=0.5, min_lr=1e-6)\n",
    "criterion = nn.MSELoss()"
   ]
  },
  {
   "cell_type": "code",
   "execution_count": 18,
   "id": "3cf30295",
   "metadata": {},
   "outputs": [],
   "source": [
    "num_epochs = 100\n",
    "patience = 15\n",
    "best_val_loss = float('inf')\n",
    "no_improve = 0\n",
    "\n",
    "train_losses = []\n",
    "val_losses = []"
   ]
  },
  {
   "cell_type": "code",
   "execution_count": 19,
   "id": "de45215b",
   "metadata": {},
   "outputs": [
    {
     "name": "stderr",
     "output_type": "stream",
     "text": [
      "Epochs:   2%|▏         | 2/100 [00:00<00:26,  3.65it/s]"
     ]
    },
    {
     "name": "stdout",
     "output_type": "stream",
     "text": [
      "Epoch [1/100], Train Loss: 39.3558, Val Loss: 37.9086\n",
      "Epoch [2/100], Train Loss: 32.7976, Val Loss: 30.5293\n"
     ]
    },
    {
     "name": "stderr",
     "output_type": "stream",
     "text": [
      "Epochs:   4%|▍         | 4/100 [00:00<00:17,  5.46it/s]"
     ]
    },
    {
     "name": "stdout",
     "output_type": "stream",
     "text": [
      "Epoch [3/100], Train Loss: 27.0761, Val Loss: 24.6657\n",
      "Epoch [4/100], Train Loss: 21.7266, Val Loss: 19.2625\n"
     ]
    },
    {
     "name": "stderr",
     "output_type": "stream",
     "text": [
      "Epochs:   6%|▌         | 6/100 [00:01<00:14,  6.41it/s]"
     ]
    },
    {
     "name": "stdout",
     "output_type": "stream",
     "text": [
      "Epoch [5/100], Train Loss: 16.6536, Val Loss: 14.2282\n",
      "Epoch [6/100], Train Loss: 11.9514, Val Loss: 9.7511\n"
     ]
    },
    {
     "name": "stderr",
     "output_type": "stream",
     "text": [
      "Epochs:   8%|▊         | 8/100 [00:01<00:13,  6.66it/s]"
     ]
    },
    {
     "name": "stdout",
     "output_type": "stream",
     "text": [
      "Epoch [7/100], Train Loss: 7.8309, Val Loss: 5.6705\n",
      "Epoch [8/100], Train Loss: 4.5490, Val Loss: 2.4843\n"
     ]
    },
    {
     "name": "stderr",
     "output_type": "stream",
     "text": [
      "Epochs:   9%|▉         | 9/100 [00:01<00:13,  6.95it/s]"
     ]
    },
    {
     "name": "stdout",
     "output_type": "stream",
     "text": [
      "Epoch [9/100], Train Loss: 2.2495, Val Loss: 0.6217\n"
     ]
    },
    {
     "name": "stderr",
     "output_type": "stream",
     "text": [
      "Epochs:  11%|█         | 11/100 [00:01<00:14,  6.01it/s]"
     ]
    },
    {
     "name": "stdout",
     "output_type": "stream",
     "text": [
      "Epoch [10/100], Train Loss: 1.4131, Val Loss: 0.0650\n",
      "Epoch [11/100], Train Loss: 1.1954, Val Loss: 0.0728\n"
     ]
    },
    {
     "name": "stderr",
     "output_type": "stream",
     "text": [
      "Epochs:  12%|█▏        | 12/100 [00:02<00:13,  6.31it/s]"
     ]
    },
    {
     "name": "stdout",
     "output_type": "stream",
     "text": [
      "Epoch [12/100], Train Loss: 1.1061, Val Loss: 0.0528\n"
     ]
    },
    {
     "name": "stderr",
     "output_type": "stream",
     "text": [
      "Epochs:  14%|█▍        | 14/100 [00:02<00:14,  5.89it/s]"
     ]
    },
    {
     "name": "stdout",
     "output_type": "stream",
     "text": [
      "Epoch [13/100], Train Loss: 1.0465, Val Loss: 0.0652\n",
      "Epoch [14/100], Train Loss: 0.9826, Val Loss: 0.0332\n"
     ]
    },
    {
     "name": "stderr",
     "output_type": "stream",
     "text": [
      "Epochs:  15%|█▌        | 15/100 [00:02<00:13,  6.29it/s]"
     ]
    },
    {
     "name": "stdout",
     "output_type": "stream",
     "text": [
      "Epoch [15/100], Train Loss: 0.9399, Val Loss: 0.0366\n"
     ]
    },
    {
     "name": "stderr",
     "output_type": "stream",
     "text": [
      "Epochs:  17%|█▋        | 17/100 [00:03<00:14,  5.66it/s]"
     ]
    },
    {
     "name": "stdout",
     "output_type": "stream",
     "text": [
      "Epoch [16/100], Train Loss: 0.9063, Val Loss: 0.0395\n",
      "Epoch [17/100], Train Loss: 0.8745, Val Loss: 0.0515\n"
     ]
    },
    {
     "name": "stderr",
     "output_type": "stream",
     "text": [
      "Epochs:  19%|█▉        | 19/100 [00:03<00:12,  6.27it/s]"
     ]
    },
    {
     "name": "stdout",
     "output_type": "stream",
     "text": [
      "Epoch [18/100], Train Loss: 0.8338, Val Loss: 0.0193\n",
      "Epoch [19/100], Train Loss: 0.8178, Val Loss: 0.0232\n"
     ]
    },
    {
     "name": "stderr",
     "output_type": "stream",
     "text": [
      "Epochs:  21%|██        | 21/100 [00:03<00:12,  6.34it/s]"
     ]
    },
    {
     "name": "stdout",
     "output_type": "stream",
     "text": [
      "Epoch [20/100], Train Loss: 0.8019, Val Loss: 0.0200\n",
      "Epoch [21/100], Train Loss: 0.7965, Val Loss: 0.0192\n"
     ]
    },
    {
     "name": "stderr",
     "output_type": "stream",
     "text": [
      "Epochs:  23%|██▎       | 23/100 [00:03<00:11,  6.91it/s]"
     ]
    },
    {
     "name": "stdout",
     "output_type": "stream",
     "text": [
      "Epoch [22/100], Train Loss: 0.7540, Val Loss: 0.0326\n",
      "Epoch [23/100], Train Loss: 0.7617, Val Loss: 0.0235\n"
     ]
    },
    {
     "name": "stderr",
     "output_type": "stream",
     "text": [
      "Epochs:  25%|██▌       | 25/100 [00:04<00:10,  7.41it/s]"
     ]
    },
    {
     "name": "stdout",
     "output_type": "stream",
     "text": [
      "Epoch [24/100], Train Loss: 0.7583, Val Loss: 0.0390\n",
      "Epoch [25/100], Train Loss: 0.7398, Val Loss: 0.0231\n"
     ]
    },
    {
     "name": "stderr",
     "output_type": "stream",
     "text": [
      "Epochs:  27%|██▋       | 27/100 [00:04<00:09,  7.43it/s]"
     ]
    },
    {
     "name": "stdout",
     "output_type": "stream",
     "text": [
      "Epoch [26/100], Train Loss: 0.7239, Val Loss: 0.0190\n",
      "Epoch [27/100], Train Loss: 0.7269, Val Loss: 0.0241\n"
     ]
    },
    {
     "name": "stderr",
     "output_type": "stream",
     "text": [
      "Epochs:  29%|██▉       | 29/100 [00:04<00:09,  7.32it/s]"
     ]
    },
    {
     "name": "stdout",
     "output_type": "stream",
     "text": [
      "Epoch [28/100], Train Loss: 0.7178, Val Loss: 0.0258\n",
      "Epoch [29/100], Train Loss: 0.7123, Val Loss: 0.0191\n"
     ]
    },
    {
     "name": "stderr",
     "output_type": "stream",
     "text": [
      "Epochs:  30%|███       | 30/100 [00:04<00:10,  6.51it/s]"
     ]
    },
    {
     "name": "stdout",
     "output_type": "stream",
     "text": [
      "Epoch [30/100], Train Loss: 0.6926, Val Loss: 0.0272\n"
     ]
    },
    {
     "name": "stderr",
     "output_type": "stream",
     "text": [
      "Epochs:  32%|███▏      | 32/100 [00:05<00:13,  5.17it/s]"
     ]
    },
    {
     "name": "stdout",
     "output_type": "stream",
     "text": [
      "Epoch [31/100], Train Loss: 0.7012, Val Loss: 0.0220\n",
      "Epoch [32/100], Train Loss: 0.6818, Val Loss: 0.0125\n"
     ]
    },
    {
     "name": "stderr",
     "output_type": "stream",
     "text": [
      "Epochs:  34%|███▍      | 34/100 [00:05<00:12,  5.28it/s]"
     ]
    },
    {
     "name": "stdout",
     "output_type": "stream",
     "text": [
      "Epoch [33/100], Train Loss: 0.6711, Val Loss: 0.0207\n",
      "Epoch [34/100], Train Loss: 0.6749, Val Loss: 0.0138\n"
     ]
    },
    {
     "name": "stderr",
     "output_type": "stream",
     "text": [
      "Epochs:  36%|███▌      | 36/100 [00:06<00:11,  5.43it/s]"
     ]
    },
    {
     "name": "stdout",
     "output_type": "stream",
     "text": [
      "Epoch [35/100], Train Loss: 0.6525, Val Loss: 0.0126\n",
      "Epoch [36/100], Train Loss: 0.6439, Val Loss: 0.0262\n"
     ]
    },
    {
     "name": "stderr",
     "output_type": "stream",
     "text": [
      "Epochs:  38%|███▊      | 38/100 [00:06<00:10,  6.06it/s]"
     ]
    },
    {
     "name": "stdout",
     "output_type": "stream",
     "text": [
      "Epoch [37/100], Train Loss: 0.6562, Val Loss: 0.0335\n",
      "Epoch [38/100], Train Loss: 0.6214, Val Loss: 0.0172\n"
     ]
    },
    {
     "name": "stderr",
     "output_type": "stream",
     "text": [
      "Epochs:  40%|████      | 40/100 [00:06<00:09,  6.06it/s]"
     ]
    },
    {
     "name": "stdout",
     "output_type": "stream",
     "text": [
      "Epoch [39/100], Train Loss: 0.6445, Val Loss: 0.0271\n",
      "Epoch [40/100], Train Loss: 0.6244, Val Loss: 0.0152\n"
     ]
    },
    {
     "name": "stderr",
     "output_type": "stream",
     "text": [
      "Epochs:  42%|████▏     | 42/100 [00:06<00:08,  6.74it/s]"
     ]
    },
    {
     "name": "stdout",
     "output_type": "stream",
     "text": [
      "Epoch [41/100], Train Loss: 0.6340, Val Loss: 0.0235\n",
      "Epoch [42/100], Train Loss: 0.6335, Val Loss: 0.0130\n"
     ]
    },
    {
     "name": "stderr",
     "output_type": "stream",
     "text": [
      "Epochs:  44%|████▍     | 44/100 [00:07<00:08,  6.85it/s]"
     ]
    },
    {
     "name": "stdout",
     "output_type": "stream",
     "text": [
      "Epoch [43/100], Train Loss: 0.6143, Val Loss: 0.0172\n",
      "Epoch [44/100], Train Loss: 0.6097, Val Loss: 0.0213\n"
     ]
    },
    {
     "name": "stderr",
     "output_type": "stream",
     "text": [
      "Epochs:  46%|████▌     | 46/100 [00:07<00:08,  6.06it/s]"
     ]
    },
    {
     "name": "stdout",
     "output_type": "stream",
     "text": [
      "Epoch [45/100], Train Loss: 0.5999, Val Loss: 0.0181\n",
      "Epoch [46/100], Train Loss: 0.6076, Val Loss: 0.0203\n"
     ]
    },
    {
     "name": "stderr",
     "output_type": "stream",
     "text": [
      "Epochs:  46%|████▌     | 46/100 [00:07<00:09,  5.88it/s]"
     ]
    },
    {
     "name": "stdout",
     "output_type": "stream",
     "text": [
      "Epoch [47/100], Train Loss: 0.6131, Val Loss: 0.0204\n",
      "Early stopping triggered after 47 epochs\n",
      "Training completed.\n"
     ]
    },
    {
     "name": "stderr",
     "output_type": "stream",
     "text": [
      "\n"
     ]
    },
    {
     "data": {
      "text/plain": [
       "AnimeRecommendationNN(\n",
       "  (fc1): Linear(in_features=7, out_features=256, bias=True)\n",
       "  (fc2): Linear(in_features=256, out_features=128, bias=True)\n",
       "  (fc3): Linear(in_features=128, out_features=64, bias=True)\n",
       "  (fc4): Linear(in_features=64, out_features=32, bias=True)\n",
       "  (fc5): Linear(in_features=32, out_features=1, bias=True)\n",
       "  (relu): LeakyReLU(negative_slope=0.01)\n",
       "  (dropout): Dropout(p=0.3, inplace=False)\n",
       "  (batch_norm1): BatchNorm1d(256, eps=1e-05, momentum=0.1, affine=True, track_running_stats=True)\n",
       "  (batch_norm2): BatchNorm1d(128, eps=1e-05, momentum=0.1, affine=True, track_running_stats=True)\n",
       "  (batch_norm3): BatchNorm1d(64, eps=1e-05, momentum=0.1, affine=True, track_running_stats=True)\n",
       "  (batch_norm4): BatchNorm1d(32, eps=1e-05, momentum=0.1, affine=True, track_running_stats=True)\n",
       ")"
      ]
     },
     "execution_count": 19,
     "metadata": {},
     "output_type": "execute_result"
    }
   ],
   "source": [
    "for epoch in tqdm(range(num_epochs), desc=\"Epochs\"):\n",
    "    model.train()\n",
    "    train_loss = 0\n",
    "    total_train_loss = 0\n",
    "    train_batch_count = 0\n",
    "\n",
    "    for batch_X, batch_y in train_loader:\n",
    "        batch_X, batch_y = batch_X.to(device), batch_y.to(device)\n",
    "\n",
    "        optimizer.zero_grad()\n",
    "        outputs = model(batch_X)\n",
    "        loss = criterion(outputs.squeeze(), batch_y)\n",
    "        loss.backward()\n",
    "        \n",
    "        torch.nn.utils.clip_grad_norm_(model.parameters(), max_norm=1.0)\n",
    "        \n",
    "        optimizer.step()\n",
    "\n",
    "        total_train_loss += loss.item()\n",
    "        train_batch_count += 1\n",
    "        train_loss += loss.item()\n",
    "\n",
    "    train_loss /= len(train_loader)\n",
    "    train_losses.append(train_loss)\n",
    "\n",
    "    avg_train_loss = total_train_loss / train_batch_count\n",
    "\n",
    "    # Validation phase\n",
    "    model.eval()\n",
    "    total_val_loss = 0\n",
    "    val_batch_count = 0\n",
    "\n",
    "    with torch.no_grad():\n",
    "        for batch_X, batch_y in val_loader:\n",
    "            batch_X, batch_y = batch_X.to(device), batch_y.to(device)\n",
    "            outputs = model(batch_X)\n",
    "            val_loss = criterion(outputs.squeeze(), batch_y)\n",
    "            total_val_loss += val_loss.item()\n",
    "            val_batch_count += 1\n",
    "\n",
    "    avg_val_loss = total_val_loss / val_batch_count\n",
    "    val_losses.append(avg_val_loss)\n",
    "\n",
    "    tqdm.write(f'Epoch [{epoch+1}/{num_epochs}], Train Loss: {avg_train_loss:.4f}, Val Loss: {avg_val_loss:.4f}')    \n",
    "    scheduler.step(avg_val_loss)\n",
    "    \n",
    "    # Early stopping\n",
    "    if avg_val_loss < best_val_loss:\n",
    "        best_val_loss = avg_val_loss\n",
    "        no_improve = 0\n",
    "        torch.save(model.state_dict(), 'best_model.pth', _use_new_zipfile_serialization=True)\n",
    "    else:\n",
    "        no_improve += 1\n",
    "        if no_improve == patience:\n",
    "            print(f\"Early stopping triggered after {epoch+1} epochs\")\n",
    "            break\n",
    "\n",
    "print(\"Training completed.\")\n",
    "\n",
    "# Load the best model for inference\n",
    "model.load_state_dict(torch.load('best_model.pth', map_location=device, weights_only=True))\n",
    "model.eval()"
   ]
  },
  {
   "cell_type": "code",
   "execution_count": 20,
   "id": "0aaef025",
   "metadata": {},
   "outputs": [],
   "source": [
    "def predict_anime_score(anime_features_dict):\n",
    "    feature_order = anime_features.columns.tolist()\n",
    "    feature_order.remove('MAL_ID') \n",
    "    features_list = [anime_features_dict.get(feature, 0) for feature in feature_order]\n",
    "    \n",
    "    model.eval()\n",
    "    with torch.no_grad():\n",
    "        features = torch.FloatTensor(scaler.transform([features_list])).to(device)\n",
    "        prediction = model(features)\n",
    "    return prediction.item()"
   ]
  },
  {
   "cell_type": "code",
   "execution_count": 21,
   "id": "338fa304",
   "metadata": {},
   "outputs": [
    {
     "name": "stdout",
     "output_type": "stream",
     "text": [
      "Predicted score for the new anime: 1.56\n"
     ]
    },
    {
     "name": "stderr",
     "output_type": "stream",
     "text": [
      "/home/andre/miniconda3/envs/venv/lib/python3.12/site-packages/sklearn/base.py:493: UserWarning: X does not have valid feature names, but StandardScaler was fitted with feature names\n",
      "  warnings.warn(\n"
     ]
    }
   ],
   "source": [
    "new_anime_features = {\n",
    "    'Score': 0,\n",
    "    'Episodes': 12,\n",
    "    'Members': 1000000,\n",
    "    'Popularity': 1000,\n",
    "    'Ranked': 500,\n",
    "    'genre_count': 3,\n",
    "    'synopsis_length': 150\n",
    "}\n",
    "\n",
    "predicted_score = predict_anime_score(new_anime_features)\n",
    "print(f\"Predicted score for the new anime: {predicted_score:.2f}\")"
   ]
  },
  {
   "cell_type": "code",
   "execution_count": 22,
   "id": "224e985a",
   "metadata": {},
   "outputs": [
    {
     "name": "stdout",
     "output_type": "stream",
     "text": [
      "Validation MSE: 0.0125\n",
      "Validation RMSE: 0.1117\n"
     ]
    }
   ],
   "source": [
    "model.eval()\n",
    "val_predictions = []\n",
    "val_true_scores = []\n",
    "\n",
    "with torch.no_grad():\n",
    "    for batch_X, batch_y in val_loader:\n",
    "        batch_X, batch_y = batch_X.to(device), batch_y.to(device)\n",
    "        outputs = model(batch_X)\n",
    "        val_predictions.extend(outputs.squeeze().cpu().numpy())\n",
    "        val_true_scores.extend(batch_y.cpu().numpy())\n",
    "\n",
    "val_predictions = np.array(val_predictions)\n",
    "val_true_scores = np.array(val_true_scores)\n",
    "\n",
    "mse = np.mean((val_predictions - val_true_scores) ** 2)\n",
    "rmse = np.sqrt(mse)\n",
    "\n",
    "print(f\"Validation MSE: {mse:.4f}\")\n",
    "print(f\"Validation RMSE: {rmse:.4f}\")"
   ]
  },
  {
   "cell_type": "code",
   "execution_count": 23,
   "id": "36e94621",
   "metadata": {},
   "outputs": [
    {
     "data": {
      "image/png": "[encoded data removed]",
      "text/plain": [
       "<Figure size 1000x600 with 1 Axes>"
      ]
     },
     "metadata": {},
     "output_type": "display_data"
    },
    {
     "data": {
      "image/png": "[encoded data removed]",
      "text/plain": [
       "<Figure size 1000x600 with 1 Axes>"
      ]
     },
     "metadata": {},
     "output_type": "display_data"
    }
   ],
   "source": [
    "plt.figure(figsize=(10, 6))\n",
    "plt.scatter(val_true_scores, val_predictions, alpha=0.5)\n",
    "plt.plot([val_true_scores.min(), val_true_scores.max()], [val_true_scores.min(), val_true_scores.max()], 'r--', lw=2)\n",
    "plt.xlabel(\"Actual Scores\")\n",
    "plt.ylabel(\"Predicted Scores\")\n",
    "plt.title(\"Predicted vs Actual Anime Scores\")\n",
    "plt.show()\n",
    "\n",
    "plt.figure(figsize=(10, 6))\n",
    "plt.plot(train_losses, label='Training Loss')\n",
    "plt.plot(val_losses, label='Validation Loss')\n",
    "plt.xlabel(\"Epochs\")\n",
    "plt.ylabel(\"Loss\")\n",
    "plt.title(\"Training and Validation Loss\")\n",
    "plt.legend()\n",
    "plt.show()"
   ]
  },
  {
   "cell_type": "markdown",
   "id": "da17265a",
   "metadata": {},
   "source": [
    "get result"
   ]
  },
  {
   "cell_type": "code",
   "execution_count": 24,
   "id": "21bdb5a9",
   "metadata": {},
   "outputs": [],
   "source": [
    "def get_recommendations(input_anime, anime_df, anime_features, top_n=10):\n",
    "    model.eval()\n",
    "    with torch.no_grad():\n",
    "        input_with_id = pd.merge(input_anime, anime_df[['MAL_ID', 'Name']], left_on='Title', right_on='Name', how='left')\n",
    "        rated_anime_ids = input_with_id['MAL_ID'].tolist()\n",
    "        unseen_anime = anime_features[~anime_features['MAL_ID'].isin(rated_anime_ids)].copy()\n",
    "        feature_columns = ['Score', 'Episodes', 'Members', 'Popularity', 'Ranked', 'genre_count', 'synopsis_length']\n",
    "        unseen_features = unseen_anime[feature_columns]\n",
    "\n",
    "        unseen_scaled = scaler.transform(unseen_features)\n",
    "        unseen_tensor = torch.FloatTensor(unseen_scaled).to(device)\n",
    "        predicted_ratings = model(unseen_tensor).cpu().numpy().flatten()\n",
    "\n",
    "    unseen_anime.loc[:, 'Predicted_Rating'] = predicted_ratings\n",
    "    recommendations = unseen_anime.sort_values('Predicted_Rating', ascending=False).head(top_n)\n",
    "    \n",
    "    recommendations = pd.merge(recommendations, anime_df[['MAL_ID', 'Name']], on='MAL_ID', how='left')\n",
    "    \n",
    "    return recommendations[['Name', 'Predicted_Rating']]"
   ]
  },
  {
   "cell_type": "markdown",
   "id": "31322025",
   "metadata": {},
   "source": [
    "User input"
   ]
  },
  {
   "cell_type": "code",
   "execution_count": 25,
   "id": "27c34fa3",
   "metadata": {},
   "outputs": [
    {
     "name": "stdout",
     "output_type": "stream",
     "text": [
      "                            Title  Rating\n",
      "0         Boku dake ga Inai Machi    10.0\n",
      "1               Violet Evergarden     9.5\n",
      "2                   Goblin Slayer     6.0\n",
      "3                         Berserk     8.0\n",
      "4              Shingeki no Kyojin     7.0\n",
      "5                     Tokyo Ghoul     6.5\n",
      "6                          Orange     6.0\n",
      "7                    Death Parade     8.0\n",
      "8                      Death Note     7.5\n",
      "9               Bungou Stray Dogs     7.5\n",
      "10                    Tenki no Ko     8.0\n",
      "11                 Kimi no Na wa.     8.0\n",
      "12      Kimi no Suizou wo Tabetai     8.5\n",
      "13                  Mononoke Hime     7.5\n",
      "14  Sen to Chihiro no Kamikakushi     7.5\n",
      "15                 Koe no Katachi     8.5\n",
      "16                   Ao Haru Ride     5.5\n",
      "17          Toki wo Kakeru Shoujo     7.0\n",
      "18                        Another     7.5\n",
      "19               Kimetsu no Yaiba     7.0\n",
      "20        Shigatsu wa Kimi no Uso     8.0\n",
      "21          Byousoku 5 Centimeter     6.0\n",
      "22  Kokoro ga Sakebitagatterunda.     7.5\n",
      "23            Schick x Evangelion     5.0\n"
     ]
    }
   ],
   "source": [
    "userInput = [\n",
    "    {'Title': 'Boku dake ga Inai Machi', 'Rating': 10.0},\n",
    "    {'Title': 'Violet Evergarden', 'Rating': 9.5},\n",
    "    {'Title': 'Goblin Slayer', 'Rating': 6.0},\n",
    "    {'Title': 'Berserk', 'Rating': 8.0},\n",
    "    {'Title': 'Shingeki no Kyojin', 'Rating': 7.0},\n",
    "    {'Title': 'Tokyo Ghoul', 'Rating': 6.5},\n",
    "    {'Title': 'Orange', 'Rating': 6.0},\n",
    "    {'Title': 'Death Parade', 'Rating': 8.0},\n",
    "    {'Title': 'Death Note', 'Rating': 7.5},\n",
    "    {'Title': 'Bungou Stray Dogs', 'Rating': 7.5},\n",
    "    {'Title': 'Tenki no Ko', 'Rating': 8.0},\n",
    "    {'Title': 'Kimi no Na wa.', 'Rating': 8.0},\n",
    "    {'Title': 'Kimi no Suizou wo Tabetai', 'Rating': 8.5},\n",
    "    {'Title': 'Mononoke Hime', 'Rating': 7.5},\n",
    "    {'Title': 'Sen to Chihiro no Kamikakushi', 'Rating': 7.5},\n",
    "    {'Title': 'Koe no Katachi', 'Rating': 8.5},\n",
    "    {'Title': 'Ao Haru Ride', 'Rating': 5.5},\n",
    "    {'Title': 'Toki wo Kakeru Shoujo', 'Rating': 7.0},\n",
    "    {'Title': 'Another', 'Rating': 7.5},\n",
    "    {'Title': 'Kimetsu no Yaiba', 'Rating': 7.0},\n",
    "    {'Title': 'Shigatsu wa Kimi no Uso', 'Rating': 8.0},\n",
    "    {'Title': 'Byousoku 5 Centimeter', 'Rating': 6.0},\n",
    "    {'Title': 'Kokoro ga Sakebitagatterunda.', 'Rating': 7.5},\n",
    "    {'Title': 'Schick x Evangelion', 'Rating': 5.0}\n",
    "]\n",
    "\n",
    "inputAnime = pd.DataFrame(userInput)\n",
    "print(inputAnime)"
   ]
  },
  {
   "cell_type": "code",
   "execution_count": 26,
   "id": "e457680c",
   "metadata": {},
   "outputs": [
    {
     "name": "stdout",
     "output_type": "stream",
     "text": [
      "\n",
      "Top 10 Recommended Anime:\n",
      "                                   Name  Predicted_Rating\n",
      "0      Fullmetal Alchemist: Brotherhood          9.102803\n",
      "1                           Steins;Gate          9.024854\n",
      "2  Shingeki no Kyojin: The Final Season          8.962355\n",
      "3                Hunter x Hunter (2011)          8.961122\n",
      "4                              Gintama°          8.956195\n",
      "5                              Gintama'          8.932238\n",
      "6                  Ginga Eiyuu Densetsu          8.916230\n",
      "7    Shingeki no Kyojin Season 3 Part 2          8.887760\n",
      "8                   Gintama': Enchousen          8.849948\n",
      "9            3-gatsu no Lion 2nd Season          8.849866\n"
     ]
    }
   ],
   "source": [
    "recommendations = get_recommendations(inputAnime, anime_df, anime_features)\n",
    "print(\"\\nTop 10 Recommended Anime:\")\n",
    "print(recommendations)"
   ]
  },
  {
   "cell_type": "code",
   "execution_count": null,
   "id": "c161e840",
   "metadata": {},
   "outputs": [],
   "source": []
  }
 ],
 "metadata": {
  "kernelspec": {
   "display_name": "venv",
   "language": "python",
   "name": "python3"
  },
  "language_info": {
   "codemirror_mode": {
    "name": "ipython",
    "version": 3
   },
   "file_extension": ".py",
   "mimetype": "text/x-python",
   "name": "python",
   "nbconvert_exporter": "python",
   "pygments_lexer": "ipython3",
   "version": "3.12.4"
  }
 },
 "nbformat": 4,
 "nbformat_minor": 5
}
